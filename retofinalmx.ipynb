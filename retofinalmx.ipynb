{
 "cells": [
  {
   "cell_type": "code",
   "execution_count": 1,
   "metadata": {},
   "outputs": [],
   "source": [
    "#Se importaron las librerías con las que se estará trabajando\n",
    "import pandas as pd\n",
    "import numpy as np\n",
    "import matplotlib.pyplot as plt\n",
    "from scipy import stats\n",
    "import statistics as st"
   ]
  },
  {
   "cell_type": "code",
   "execution_count": 2,
   "metadata": {},
   "outputs": [],
   "source": [
    "#Se lee el dataset con el que se estará trabajando y se le llama df\n",
    "df= pd.read_csv(\"mexicoreto.csv\")"
   ]
  },
  {
   "cell_type": "code",
   "execution_count": 3,
   "metadata": {},
   "outputs": [],
   "source": [
    "#Se eliminan las columnas que no se estarán utilizando para el análisis o que son muy repetitivas en relación a otras variables\n",
    "df = df.drop([\"listing_url\",\"scrape_id\",\"last_scraped\",\"source\",\"name\",\"description\",\"neighborhood_overview\",\n",
    "\"host_listings_count\",\"host_total_listings_count\",\n",
    "\"picture_url\",\"host_url\",\"host_name\",\"host_since\",\"host_about\",\n",
    "\"host_thumbnail_url\",\"host_picture_url\",\"neighbourhood_group_cleansed\",\n",
    "\"bathrooms\",\"minimum_minimum_nights\",\"maximum_minimum_nights\",\"minimum_maximum_nights\",\"maximum_maximum_nights\",\n",
    "\"calendar_updated\",\"calendar_last_scraped\",\"number_of_reviews\",\"number_of_reviews_l30d\",\"first_review\",\n",
    "\"last_review\",\"license\",\"calculated_host_listings_count_entire_homes\",\n",
    "\"calculated_host_listings_count_private_rooms\",\"calculated_host_listings_count_shared_rooms\",\"neighbourhood\",\"has_availability\"], axis=1)"
   ]
  },
  {
   "cell_type": "code",
   "execution_count": 4,
   "metadata": {},
   "outputs": [
    {
     "data": {
      "text/plain": [
       "array(['id', 'host_id', 'host_location', 'host_response_time',\n",
       "       'host_response_rate', 'host_acceptance_rate', 'host_is_superhost',\n",
       "       'host_neighbourhood', 'host_verifications', 'host_has_profile_pic',\n",
       "       'host_identity_verified', 'neighbourhood_cleansed', 'latitude',\n",
       "       'longitude', 'property_type', 'room_type', 'accommodates',\n",
       "       'bathrooms_text', 'bedrooms', 'beds', 'amenities', 'price',\n",
       "       'minimum_nights', 'maximum_nights', 'minimum_nights_avg_ntm',\n",
       "       'maximum_nights_avg_ntm', 'availability_30', 'availability_60',\n",
       "       'availability_90', 'availability_365', 'number_of_reviews_ltm',\n",
       "       'review_scores_rating', 'review_scores_accuracy',\n",
       "       'review_scores_cleanliness', 'review_scores_checkin',\n",
       "       'review_scores_communication', 'review_scores_location',\n",
       "       'review_scores_value', 'instant_bookable',\n",
       "       'calculated_host_listings_count', 'reviews_per_month'],\n",
       "      dtype=object)"
      ]
     },
     "execution_count": 4,
     "metadata": {},
     "output_type": "execute_result"
    }
   ],
   "source": [
    "#Se verifica la eliminación de las columnas\n",
    "df.columns.values"
   ]
  },
  {
   "cell_type": "code",
   "execution_count": 5,
   "metadata": {},
   "outputs": [],
   "source": [
    "#Se elimina el texto de la variable \"bathrooms_text\" para hacerla cuantitativa, se renombra la variable\n",
    "df[\"bathrooms_text\"]=df[\"bathrooms_text\"].str.split(\" \",1).str[0]\n",
    "df=df.rename(columns={\"bathrooms_text\":\"bathrooms\"})"
   ]
  },
  {
   "cell_type": "code",
   "execution_count": 6,
   "metadata": {},
   "outputs": [
    {
     "data": {
      "text/plain": [
       "array(['1', '2.5', '5.5', '1.5', '5', '2', '4.5', '3.5', '6', nan, '3',\n",
       "       '8', 'Half-bath', '4', '10', '16', '7', '20', 'Shared', '0', '50',\n",
       "       '6.5', '8.5', '9', '7.5', '11.5', 'Private', '14', '11', '13',\n",
       "       '15', '17', '12', '9.5', '26'], dtype=object)"
      ]
     },
     "execution_count": 6,
     "metadata": {},
     "output_type": "execute_result"
    }
   ],
   "source": [
    "#Se utiliza la función unique para encontrar el texto existente que se debe reemplazar\n",
    "df[\"bathrooms\"].unique()"
   ]
  },
  {
   "cell_type": "code",
   "execution_count": 7,
   "metadata": {},
   "outputs": [],
   "source": [
    "#Se crea un diccionario para reemplazar el texto de la variable\n",
    "bath_dict={\n",
    "    \"Half-bath\":0.5,\n",
    "    \"Shared\":0.5,\n",
    "    \"Private\":0.5\n",
    "}"
   ]
  },
  {
   "cell_type": "code",
   "execution_count": 8,
   "metadata": {},
   "outputs": [],
   "source": [
    "#Se reemplazan los valores del diccionario por numéricos\n",
    "df=df.replace({\"bathrooms\":bath_dict})\n",
    "df[\"bathrooms\"]=df[\"bathrooms\"].str.replace(\" \",\"\")"
   ]
  },
  {
   "cell_type": "code",
   "execution_count": 9,
   "metadata": {},
   "outputs": [],
   "source": [
    "#Se convierte la variable a numérica para poder trabajar con ella\n",
    "df['bathrooms'] = df['bathrooms'].astype(float)"
   ]
  },
  {
   "cell_type": "code",
   "execution_count": 10,
   "metadata": {},
   "outputs": [],
   "source": [
    "#Se rellenan los valores nulos de las columnas \"host_location\" y \"host_neighbourhood\" con \"Unknown\" para continuar con el formato del set de datos\n",
    "df[\"host_location\"]= df[\"host_location\"].fillna(\"Unknown\") \n",
    "df[\"host_neighbourhood\"]= df[\"host_neighbourhood\"].fillna(\"Unknown\")"
   ]
  },
  {
   "cell_type": "code",
   "execution_count": 11,
   "metadata": {},
   "outputs": [
    {
     "data": {
      "text/plain": [
       "id                                   0\n",
       "host_id                              0\n",
       "host_location                        0\n",
       "host_response_time                2945\n",
       "host_response_rate                2945\n",
       "host_acceptance_rate              2465\n",
       "host_is_superhost                    6\n",
       "host_neighbourhood                   0\n",
       "host_verifications                   0\n",
       "host_has_profile_pic                 0\n",
       "host_identity_verified               0\n",
       "neighbourhood_cleansed               0\n",
       "latitude                             0\n",
       "longitude                            0\n",
       "property_type                        0\n",
       "room_type                            0\n",
       "accommodates                         0\n",
       "bathrooms                           82\n",
       "bedrooms                           643\n",
       "beds                               382\n",
       "amenities                            0\n",
       "price                                0\n",
       "minimum_nights                       0\n",
       "maximum_nights                       0\n",
       "minimum_nights_avg_ntm               1\n",
       "maximum_nights_avg_ntm               1\n",
       "availability_30                      0\n",
       "availability_60                      0\n",
       "availability_90                      0\n",
       "availability_365                     0\n",
       "number_of_reviews_ltm                0\n",
       "review_scores_rating              4067\n",
       "review_scores_accuracy            4161\n",
       "review_scores_cleanliness         4161\n",
       "review_scores_checkin             4162\n",
       "review_scores_communication       4161\n",
       "review_scores_location            4163\n",
       "review_scores_value               4162\n",
       "instant_bookable                     0\n",
       "calculated_host_listings_count       0\n",
       "reviews_per_month                 4067\n",
       "dtype: int64"
      ]
     },
     "execution_count": 11,
     "metadata": {},
     "output_type": "execute_result"
    }
   ],
   "source": [
    "#Identificar valores nulos\n",
    "null=df.isnull().sum()\n",
    "null"
   ]
  },
  {
   "cell_type": "code",
   "execution_count": 12,
   "metadata": {},
   "outputs": [],
   "source": [
    "#Se rellenan los valores nulos de la columna \"host_response_time\" con \"no reviews yet\"\n",
    "df[\"host_response_time\"]= df[\"host_response_time\"].fillna(\"no reviews yet\") "
   ]
  },
  {
   "cell_type": "code",
   "execution_count": 13,
   "metadata": {},
   "outputs": [
    {
     "data": {
      "text/plain": [
       "id                                   0\n",
       "host_id                              0\n",
       "host_location                        0\n",
       "host_response_time                   0\n",
       "host_response_rate                2945\n",
       "host_acceptance_rate              2465\n",
       "host_is_superhost                    6\n",
       "host_neighbourhood                   0\n",
       "host_verifications                   0\n",
       "host_has_profile_pic                 0\n",
       "host_identity_verified               0\n",
       "neighbourhood_cleansed               0\n",
       "latitude                             0\n",
       "longitude                            0\n",
       "property_type                        0\n",
       "room_type                            0\n",
       "accommodates                         0\n",
       "bathrooms                           82\n",
       "bedrooms                           643\n",
       "beds                               382\n",
       "amenities                            0\n",
       "price                                0\n",
       "minimum_nights                       0\n",
       "maximum_nights                       0\n",
       "minimum_nights_avg_ntm               1\n",
       "maximum_nights_avg_ntm               1\n",
       "availability_30                      0\n",
       "availability_60                      0\n",
       "availability_90                      0\n",
       "availability_365                     0\n",
       "number_of_reviews_ltm                0\n",
       "review_scores_rating              4067\n",
       "review_scores_accuracy            4161\n",
       "review_scores_cleanliness         4161\n",
       "review_scores_checkin             4162\n",
       "review_scores_communication       4161\n",
       "review_scores_location            4163\n",
       "review_scores_value               4162\n",
       "instant_bookable                     0\n",
       "calculated_host_listings_count       0\n",
       "reviews_per_month                 4067\n",
       "dtype: int64"
      ]
     },
     "execution_count": 13,
     "metadata": {},
     "output_type": "execute_result"
    }
   ],
   "source": [
    "#Identificar valores nulos\n",
    "null=df.isnull().sum()\n",
    "null"
   ]
  },
  {
   "cell_type": "code",
   "execution_count": 14,
   "metadata": {},
   "outputs": [],
   "source": [
    "#Se rellenan los valores nulos de ambas columnas con 80%\n",
    "#A pesar de no ser un valor real se selecciona este método para poder obtener un panorama general \n",
    "df[\"host_response_rate\"]= df[\"host_response_rate\"].fillna(\"80%\") \n",
    "df[\"host_acceptance_rate\"]= df[\"host_acceptance_rate\"].fillna(\"80%\") "
   ]
  },
  {
   "cell_type": "code",
   "execution_count": 15,
   "metadata": {},
   "outputs": [
    {
     "data": {
      "text/plain": [
       "id                                   0\n",
       "host_id                              0\n",
       "host_location                        0\n",
       "host_response_time                   0\n",
       "host_response_rate                   0\n",
       "host_acceptance_rate                 0\n",
       "host_is_superhost                    6\n",
       "host_neighbourhood                   0\n",
       "host_verifications                   0\n",
       "host_has_profile_pic                 0\n",
       "host_identity_verified               0\n",
       "neighbourhood_cleansed               0\n",
       "latitude                             0\n",
       "longitude                            0\n",
       "property_type                        0\n",
       "room_type                            0\n",
       "accommodates                         0\n",
       "bathrooms                           82\n",
       "bedrooms                           643\n",
       "beds                               382\n",
       "amenities                            0\n",
       "price                                0\n",
       "minimum_nights                       0\n",
       "maximum_nights                       0\n",
       "minimum_nights_avg_ntm               1\n",
       "maximum_nights_avg_ntm               1\n",
       "availability_30                      0\n",
       "availability_60                      0\n",
       "availability_90                      0\n",
       "availability_365                     0\n",
       "number_of_reviews_ltm                0\n",
       "review_scores_rating              4067\n",
       "review_scores_accuracy            4161\n",
       "review_scores_cleanliness         4161\n",
       "review_scores_checkin             4162\n",
       "review_scores_communication       4161\n",
       "review_scores_location            4163\n",
       "review_scores_value               4162\n",
       "instant_bookable                     0\n",
       "calculated_host_listings_count       0\n",
       "reviews_per_month                 4067\n",
       "dtype: int64"
      ]
     },
     "execution_count": 15,
     "metadata": {},
     "output_type": "execute_result"
    }
   ],
   "source": [
    "#Identificar valores nulos\n",
    "null=df.isnull().sum()\n",
    "null"
   ]
  },
  {
   "cell_type": "code",
   "execution_count": 16,
   "metadata": {},
   "outputs": [],
   "source": [
    "#Se rellenan los valores nulos de las columnas con \"f\" porque consideramos que es más probable que no sean superhosts y que por eso no se tenga esa información\n",
    "df[\"host_is_superhost\"]= df[\"host_is_superhost\"].fillna(\"f\") \n",
    "df[\"host_has_profile_pic\"]= df[\"host_has_profile_pic\"].fillna(\"f\")\n",
    "df[\"host_identity_verified\"]= df[\"host_identity_verified\"].fillna(\"f\") "
   ]
  },
  {
   "cell_type": "code",
   "execution_count": 17,
   "metadata": {},
   "outputs": [
    {
     "data": {
      "text/plain": [
       "id                                   0\n",
       "host_id                              0\n",
       "host_location                        0\n",
       "host_response_time                   0\n",
       "host_response_rate                   0\n",
       "host_acceptance_rate                 0\n",
       "host_is_superhost                    0\n",
       "host_neighbourhood                   0\n",
       "host_verifications                   0\n",
       "host_has_profile_pic                 0\n",
       "host_identity_verified               0\n",
       "neighbourhood_cleansed               0\n",
       "latitude                             0\n",
       "longitude                            0\n",
       "property_type                        0\n",
       "room_type                            0\n",
       "accommodates                         0\n",
       "bathrooms                           82\n",
       "bedrooms                           643\n",
       "beds                               382\n",
       "amenities                            0\n",
       "price                                0\n",
       "minimum_nights                       0\n",
       "maximum_nights                       0\n",
       "minimum_nights_avg_ntm               1\n",
       "maximum_nights_avg_ntm               1\n",
       "availability_30                      0\n",
       "availability_60                      0\n",
       "availability_90                      0\n",
       "availability_365                     0\n",
       "number_of_reviews_ltm                0\n",
       "review_scores_rating              4067\n",
       "review_scores_accuracy            4161\n",
       "review_scores_cleanliness         4161\n",
       "review_scores_checkin             4162\n",
       "review_scores_communication       4161\n",
       "review_scores_location            4163\n",
       "review_scores_value               4162\n",
       "instant_bookable                     0\n",
       "calculated_host_listings_count       0\n",
       "reviews_per_month                 4067\n",
       "dtype: int64"
      ]
     },
     "execution_count": 17,
     "metadata": {},
     "output_type": "execute_result"
    }
   ],
   "source": [
    "#Identificar valores nulos\n",
    "null=df.isnull().sum()\n",
    "null"
   ]
  },
  {
   "cell_type": "code",
   "execution_count": 18,
   "metadata": {},
   "outputs": [],
   "source": [
    "#Se rellenan los valores nulos de las columnas bathrooms, bedrooms y beds por la moda ya que será útil para el análisis general utilizar el número más repetido\n",
    "df[\"bedrooms\"] = df[\"bedrooms\"].fillna(df[\"bedrooms\"].mode()[0])\n",
    "df[\"beds\"] = df[\"beds\"].fillna(df[\"beds\"].mode()[0])\n",
    "df[\"bathrooms\"] = df[\"bathrooms\"].fillna(df[\"bathrooms\"].mode()[0])"
   ]
  },
  {
   "cell_type": "code",
   "execution_count": 19,
   "metadata": {},
   "outputs": [
    {
     "data": {
      "text/plain": [
       "id                                   0\n",
       "host_id                              0\n",
       "host_location                        0\n",
       "host_response_time                   0\n",
       "host_response_rate                   0\n",
       "host_acceptance_rate                 0\n",
       "host_is_superhost                    0\n",
       "host_neighbourhood                   0\n",
       "host_verifications                   0\n",
       "host_has_profile_pic                 0\n",
       "host_identity_verified               0\n",
       "neighbourhood_cleansed               0\n",
       "latitude                             0\n",
       "longitude                            0\n",
       "property_type                        0\n",
       "room_type                            0\n",
       "accommodates                         0\n",
       "bathrooms                            0\n",
       "bedrooms                             0\n",
       "beds                                 0\n",
       "amenities                            0\n",
       "price                                0\n",
       "minimum_nights                       0\n",
       "maximum_nights                       0\n",
       "minimum_nights_avg_ntm               1\n",
       "maximum_nights_avg_ntm               1\n",
       "availability_30                      0\n",
       "availability_60                      0\n",
       "availability_90                      0\n",
       "availability_365                     0\n",
       "number_of_reviews_ltm                0\n",
       "review_scores_rating              4067\n",
       "review_scores_accuracy            4161\n",
       "review_scores_cleanliness         4161\n",
       "review_scores_checkin             4162\n",
       "review_scores_communication       4161\n",
       "review_scores_location            4163\n",
       "review_scores_value               4162\n",
       "instant_bookable                     0\n",
       "calculated_host_listings_count       0\n",
       "reviews_per_month                 4067\n",
       "dtype: int64"
      ]
     },
     "execution_count": 19,
     "metadata": {},
     "output_type": "execute_result"
    }
   ],
   "source": [
    "#Identificar valores nulos\n",
    "null=df.isnull().sum()\n",
    "null"
   ]
  },
  {
   "cell_type": "code",
   "execution_count": 20,
   "metadata": {},
   "outputs": [
    {
     "data": {
      "text/plain": [
       "<function matplotlib.pyplot.show(close=None, block=None)>"
      ]
     },
     "execution_count": 20,
     "metadata": {},
     "output_type": "execute_result"
    },
    {
     "data": {
      "image/png": "[encoded data removed]",
      "text/plain": [
       "<Figure size 432x288 with 1 Axes>"
      ]
     },
     "metadata": {
      "needs_background": "light"
     },
     "output_type": "display_data"
    }
   ],
   "source": [
    "#Se grafica un histograma con los datos de la columna para observar si los datos están distribuidos de manera normal\n",
    "#Se observa que no están distribuidos de manera normal\n",
    "plt.hist(df[\"review_scores_rating\"])\n",
    "plt.show"
   ]
  },
  {
   "cell_type": "code",
   "execution_count": 21,
   "metadata": {},
   "outputs": [
    {
     "data": {
      "text/plain": [
       "<function matplotlib.pyplot.show(close=None, block=None)>"
      ]
     },
     "execution_count": 21,
     "metadata": {},
     "output_type": "execute_result"
    },
    {
     "data": {
      "image/png": "[encoded data removed]",
      "text/plain": [
       "<Figure size 432x288 with 1 Axes>"
      ]
     },
     "metadata": {
      "needs_background": "light"
     },
     "output_type": "display_data"
    }
   ],
   "source": [
    "#Se grafica un histograma con los datos de la columna para observar si los datos están distribuidos de manera normal\n",
    "#Se observa que no están distribuidos de manera normal\n",
    "plt.hist(df[\"review_scores_accuracy\"])\n",
    "plt.show"
   ]
  },
  {
   "cell_type": "code",
   "execution_count": 22,
   "metadata": {},
   "outputs": [
    {
     "data": {
      "text/plain": [
       "<function matplotlib.pyplot.show(close=None, block=None)>"
      ]
     },
     "execution_count": 22,
     "metadata": {},
     "output_type": "execute_result"
    },
    {
     "data": {
      "image/png": "[encoded data removed]",
      "text/plain": [
       "<Figure size 432x288 with 1 Axes>"
      ]
     },
     "metadata": {
      "needs_background": "light"
     },
     "output_type": "display_data"
    }
   ],
   "source": [
    "#Se grafica un histograma con los datos de la columna para observar si los datos están distribuidos de manera normal\n",
    "#Se observa que no están distribuidos de manera normal\n",
    "plt.hist(df[\"review_scores_cleanliness\"])\n",
    "plt.show"
   ]
  },
  {
   "cell_type": "code",
   "execution_count": 23,
   "metadata": {},
   "outputs": [
    {
     "data": {
      "text/plain": [
       "<function matplotlib.pyplot.show(close=None, block=None)>"
      ]
     },
     "execution_count": 23,
     "metadata": {},
     "output_type": "execute_result"
    },
    {
     "data": {
      "image/png": "[encoded data removed]",
      "text/plain": [
       "<Figure size 432x288 with 1 Axes>"
      ]
     },
     "metadata": {
      "needs_background": "light"
     },
     "output_type": "display_data"
    }
   ],
   "source": [
    "#Se grafica un histograma con los datos de la columna para observar si los datos están distribuidos de manera normal\n",
    "#Se observa que no están distribuidos de manera normal\n",
    "plt.hist(df[\"review_scores_checkin\"])\n",
    "plt.show"
   ]
  },
  {
   "cell_type": "code",
   "execution_count": 24,
   "metadata": {},
   "outputs": [
    {
     "data": {
      "text/plain": [
       "<function matplotlib.pyplot.show(close=None, block=None)>"
      ]
     },
     "execution_count": 24,
     "metadata": {},
     "output_type": "execute_result"
    },
    {
     "data": {
      "image/png": "[encoded data removed]",
      "text/plain": [
       "<Figure size 432x288 with 1 Axes>"
      ]
     },
     "metadata": {
      "needs_background": "light"
     },
     "output_type": "display_data"
    }
   ],
   "source": [
    "#Se grafica un histograma con los datos de la columna para observar si los datos están distribuidos de manera normal\n",
    "#Se observa que no están distribuidos de manera normal\n",
    "plt.hist(df[\"review_scores_communication\"])\n",
    "plt.show"
   ]
  },
  {
   "cell_type": "code",
   "execution_count": 25,
   "metadata": {},
   "outputs": [
    {
     "data": {
      "text/plain": [
       "<function matplotlib.pyplot.show(close=None, block=None)>"
      ]
     },
     "execution_count": 25,
     "metadata": {},
     "output_type": "execute_result"
    },
    {
     "data": {
      "image/png": "[encoded data removed]",
      "text/plain": [
       "<Figure size 432x288 with 1 Axes>"
      ]
     },
     "metadata": {
      "needs_background": "light"
     },
     "output_type": "display_data"
    }
   ],
   "source": [
    "#Se grafica un histograma con los datos de la columna para observar si los datos están distribuidos de manera normal\n",
    "#Se observa que no están distribuidos de manera normal\n",
    "plt.hist(df[\"review_scores_location\"])\n",
    "plt.show"
   ]
  },
  {
   "cell_type": "code",
   "execution_count": 26,
   "metadata": {},
   "outputs": [
    {
     "data": {
      "text/plain": [
       "<function matplotlib.pyplot.show(close=None, block=None)>"
      ]
     },
     "execution_count": 26,
     "metadata": {},
     "output_type": "execute_result"
    },
    {
     "data": {
      "image/png": "[encoded data removed]",
      "text/plain": [
       "<Figure size 432x288 with 1 Axes>"
      ]
     },
     "metadata": {
      "needs_background": "light"
     },
     "output_type": "display_data"
    }
   ],
   "source": [
    "#Se grafica un histograma con los datos de la columna para observar si los datos están distribuidos de manera normal\n",
    "#Se observa que no están distribuidos de manera normal\n",
    "plt.hist(df[\"review_scores_value\"])\n",
    "plt.show"
   ]
  },
  {
   "cell_type": "code",
   "execution_count": 27,
   "metadata": {},
   "outputs": [
    {
     "data": {
      "text/plain": [
       "<function matplotlib.pyplot.show(close=None, block=None)>"
      ]
     },
     "execution_count": 27,
     "metadata": {},
     "output_type": "execute_result"
    },
    {
     "data": {
      "image/png": "[encoded data removed]",
      "text/plain": [
       "<Figure size 432x288 with 1 Axes>"
      ]
     },
     "metadata": {
      "needs_background": "light"
     },
     "output_type": "display_data"
    }
   ],
   "source": [
    "#Se grafica un histograma con los datos de la columna para observar si los datos están distribuidos de manera normal\n",
    "#Se observa que no están distribuidos de manera normal\n",
    "plt.hist(df[\"review_scores_value\"])\n",
    "plt.show"
   ]
  },
  {
   "cell_type": "code",
   "execution_count": 28,
   "metadata": {},
   "outputs": [],
   "source": [
    "#Se rellenan los valores de las columnas indicadas por la mediana ya que los datos están sezgados hacia la derecha, como es visto en los histogramas \n",
    "df[\"review_scores_rating\"]=df[\"review_scores_rating\"].fillna(round(df[\"review_scores_rating\"].median(),2))\n",
    "df[\"review_scores_accuracy\"]=df[\"review_scores_accuracy\"].fillna(round(df[\"review_scores_accuracy\"].median(),2))\n",
    "df[\"review_scores_cleanliness\"]=df[\"review_scores_cleanliness\"].fillna(round(df[\"review_scores_cleanliness\"].median(),2))\n",
    "df[\"review_scores_checkin\"]=df[\"review_scores_checkin\"].fillna(round(df[\"review_scores_checkin\"].median(),2))\n",
    "df[\"review_scores_communication\"]=df[\"review_scores_communication\"].fillna(round(df[\"review_scores_communication\"].median(),2))\n",
    "df[\"review_scores_location\"]=df[\"review_scores_location\"].fillna(round(df[\"review_scores_location\"].median(),2))\n",
    "df[\"review_scores_value\"]=df[\"review_scores_value\"].fillna(round(df[\"review_scores_value\"].median(),2))"
   ]
  },
  {
   "cell_type": "code",
   "execution_count": 29,
   "metadata": {},
   "outputs": [
    {
     "data": {
      "text/plain": [
       "id                                   0\n",
       "host_id                              0\n",
       "host_location                        0\n",
       "host_response_time                   0\n",
       "host_response_rate                   0\n",
       "host_acceptance_rate                 0\n",
       "host_is_superhost                    0\n",
       "host_neighbourhood                   0\n",
       "host_verifications                   0\n",
       "host_has_profile_pic                 0\n",
       "host_identity_verified               0\n",
       "neighbourhood_cleansed               0\n",
       "latitude                             0\n",
       "longitude                            0\n",
       "property_type                        0\n",
       "room_type                            0\n",
       "accommodates                         0\n",
       "bathrooms                            0\n",
       "bedrooms                             0\n",
       "beds                                 0\n",
       "amenities                            0\n",
       "price                                0\n",
       "minimum_nights                       0\n",
       "maximum_nights                       0\n",
       "minimum_nights_avg_ntm               1\n",
       "maximum_nights_avg_ntm               1\n",
       "availability_30                      0\n",
       "availability_60                      0\n",
       "availability_90                      0\n",
       "availability_365                     0\n",
       "number_of_reviews_ltm                0\n",
       "review_scores_rating                 0\n",
       "review_scores_accuracy               0\n",
       "review_scores_cleanliness            0\n",
       "review_scores_checkin                0\n",
       "review_scores_communication          0\n",
       "review_scores_location               0\n",
       "review_scores_value                  0\n",
       "instant_bookable                     0\n",
       "calculated_host_listings_count       0\n",
       "reviews_per_month                 4067\n",
       "dtype: int64"
      ]
     },
     "execution_count": 29,
     "metadata": {},
     "output_type": "execute_result"
    }
   ],
   "source": [
    "#Identificar valores nulos\n",
    "null=df.isnull().sum()\n",
    "null"
   ]
  },
  {
   "cell_type": "code",
   "execution_count": 30,
   "metadata": {},
   "outputs": [],
   "source": [
    "#Se rellenan los valores nulos por 0 ya que al observar el dataset y compararlo con otras columnas los valores nulos generalmente están en los registros en los que no hay reseñas.\n",
    "# Por ende, se asume que no se han hecho reseñas y que no tienen ninguna reseña por mes \n",
    "df[\"reviews_per_month\"]= df[\"reviews_per_month\"].fillna(\"0\") "
   ]
  },
  {
   "cell_type": "code",
   "execution_count": 31,
   "metadata": {},
   "outputs": [
    {
     "data": {
      "text/plain": [
       "id                                0\n",
       "host_id                           0\n",
       "host_location                     0\n",
       "host_response_time                0\n",
       "host_response_rate                0\n",
       "host_acceptance_rate              0\n",
       "host_is_superhost                 0\n",
       "host_neighbourhood                0\n",
       "host_verifications                0\n",
       "host_has_profile_pic              0\n",
       "host_identity_verified            0\n",
       "neighbourhood_cleansed            0\n",
       "latitude                          0\n",
       "longitude                         0\n",
       "property_type                     0\n",
       "room_type                         0\n",
       "accommodates                      0\n",
       "bathrooms                         0\n",
       "bedrooms                          0\n",
       "beds                              0\n",
       "amenities                         0\n",
       "price                             0\n",
       "minimum_nights                    0\n",
       "maximum_nights                    0\n",
       "minimum_nights_avg_ntm            1\n",
       "maximum_nights_avg_ntm            1\n",
       "availability_30                   0\n",
       "availability_60                   0\n",
       "availability_90                   0\n",
       "availability_365                  0\n",
       "number_of_reviews_ltm             0\n",
       "review_scores_rating              0\n",
       "review_scores_accuracy            0\n",
       "review_scores_cleanliness         0\n",
       "review_scores_checkin             0\n",
       "review_scores_communication       0\n",
       "review_scores_location            0\n",
       "review_scores_value               0\n",
       "instant_bookable                  0\n",
       "calculated_host_listings_count    0\n",
       "reviews_per_month                 0\n",
       "dtype: int64"
      ]
     },
     "execution_count": 31,
     "metadata": {},
     "output_type": "execute_result"
    }
   ],
   "source": [
    "#Identificar valores nulos\n",
    "null=df.isnull().sum()\n",
    "null"
   ]
  },
  {
   "cell_type": "code",
   "execution_count": 32,
   "metadata": {},
   "outputs": [],
   "source": [
    "#Se rellenan los valores nulos con el promedio para que tenga coherencia con la variable\n",
    "df[\"minimum_nights_avg_ntm\"]=df[\"minimum_nights_avg_ntm\"].fillna(round(df[\"minimum_nights_avg_ntm\"].median(),0))\n",
    "df[\"maximum_nights_avg_ntm\"]=df[\"maximum_nights_avg_ntm\"].fillna(round(df[\"maximum_nights_avg_ntm\"].median(),0))"
   ]
  },
  {
   "cell_type": "code",
   "execution_count": 33,
   "metadata": {},
   "outputs": [
    {
     "data": {
      "text/plain": [
       "0"
      ]
     },
     "execution_count": 33,
     "metadata": {},
     "output_type": "execute_result"
    }
   ],
   "source": [
    "#Asegurar que ya no hay datos nulos en toda la base de datos\n",
    "total_null= df.isnull().sum().sum()\n",
    "total_null"
   ]
  },
  {
   "cell_type": "code",
   "execution_count": 34,
   "metadata": {},
   "outputs": [
    {
     "data": {
      "text/plain": [
       "id                                  int64\n",
       "host_id                             int64\n",
       "host_location                      object\n",
       "host_response_time                 object\n",
       "host_response_rate                 object\n",
       "host_acceptance_rate               object\n",
       "host_is_superhost                  object\n",
       "host_neighbourhood                 object\n",
       "host_verifications                 object\n",
       "host_has_profile_pic               object\n",
       "host_identity_verified             object\n",
       "neighbourhood_cleansed             object\n",
       "latitude                          float64\n",
       "longitude                         float64\n",
       "property_type                      object\n",
       "room_type                          object\n",
       "accommodates                        int64\n",
       "bathrooms                         float64\n",
       "bedrooms                          float64\n",
       "beds                              float64\n",
       "amenities                          object\n",
       "price                              object\n",
       "minimum_nights                      int64\n",
       "maximum_nights                      int64\n",
       "minimum_nights_avg_ntm            float64\n",
       "maximum_nights_avg_ntm            float64\n",
       "availability_30                     int64\n",
       "availability_60                     int64\n",
       "availability_90                     int64\n",
       "availability_365                    int64\n",
       "number_of_reviews_ltm               int64\n",
       "review_scores_rating              float64\n",
       "review_scores_accuracy            float64\n",
       "review_scores_cleanliness         float64\n",
       "review_scores_checkin             float64\n",
       "review_scores_communication       float64\n",
       "review_scores_location            float64\n",
       "review_scores_value               float64\n",
       "instant_bookable                   object\n",
       "calculated_host_listings_count      int64\n",
       "reviews_per_month                  object\n",
       "dtype: object"
      ]
     },
     "execution_count": 34,
     "metadata": {},
     "output_type": "execute_result"
    }
   ],
   "source": [
    "df.dtypes"
   ]
  },
  {
   "cell_type": "code",
   "execution_count": 35,
   "metadata": {},
   "outputs": [],
   "source": [
    "#Se eliminan los signos de % de las columnas para que sean numéricas\n",
    "df[\"host_response_rate\"]=df[\"host_response_rate\"].str.rstrip(\"%\").astype(\"float\")/100.0\n",
    "df[\"host_acceptance_rate\"]=df[\"host_acceptance_rate\"].str.rstrip(\"%\").astype(\"float\")/100.0"
   ]
  },
  {
   "cell_type": "code",
   "execution_count": 36,
   "metadata": {},
   "outputs": [
    {
     "name": "stderr",
     "output_type": "stream",
     "text": [
      "/var/folders/h7/3hswkg9n4t7_f3vwwzsc1gv40000gn/T/ipykernel_29993/2004568266.py:2: FutureWarning: The default value of regex will change from True to False in a future version. In addition, single character regular expressions will *not* be treated as literal strings when regex=True.\n",
      "  df[\"price\"] = df[\"price\"].str.replace('$', '')\n"
     ]
    }
   ],
   "source": [
    "#Se transforma la variable de precio a numérica quitando los signos de pesos y las comas. \n",
    "df[\"price\"] = df[\"price\"].str.replace('$', '')\n",
    "df[\"price\"]= df[\"price\"].replace(',','', regex=True)\n",
    "df[\"price\"] = pd.to_numeric(df[\"price\"])"
   ]
  },
  {
   "cell_type": "code",
   "execution_count": 37,
   "metadata": {},
   "outputs": [],
   "source": [
    "#Cambiamos el tipo de dato a numérico\n",
    "df[\"reviews_per_month\"] = pd.to_numeric(df[\"reviews_per_month\"])"
   ]
  },
  {
   "cell_type": "code",
   "execution_count": 38,
   "metadata": {},
   "outputs": [
    {
     "data": {
      "image/png": "[encoded data removed]",
      "text/plain": [
       "<Figure size 216x144 with 1 Axes>"
      ]
     },
     "metadata": {
      "needs_background": "light"
     },
     "output_type": "display_data"
    },
    {
     "data": {
      "image/png": "[encoded data removed]",
      "text/plain": [
       "<Figure size 216x144 with 1 Axes>"
      ]
     },
     "metadata": {
      "needs_background": "light"
     },
     "output_type": "display_data"
    },
    {
     "data": {
      "image/png": "[encoded data removed]",
      "text/plain": [
       "<Figure size 216x144 with 1 Axes>"
      ]
     },
     "metadata": {
      "needs_background": "light"
     },
     "output_type": "display_data"
    }
   ],
   "source": [
    "#Realizamos diagramas de caja para identificar outliers, a través de los diagramas se puede observar que hay valores atípicos\n",
    "#en todas las columnas\n",
    "fig1 = plt.figure(figsize =(3, 2))\n",
    "plt.boxplot(df[\"host_response_rate\"]) \n",
    "plt.title(\"Outliers columna host_response_rate\")\n",
    "plt.show() \n",
    "\n",
    "\n",
    "fig2 = plt.figure(figsize =(3, 2))\n",
    "plt.boxplot(df[\"host_acceptance_rate\"]) \n",
    "plt.title(\"Outliers columna host_acceptance_rate\")\n",
    "plt.show() \n",
    "\n",
    "fig3 = plt.figure(figsize =(3, 2))\n",
    "plt.boxplot(df[\"accommodates\"]) \n",
    "plt.title(\"Outliers columna accommodates\")\n",
    "plt.show() "
   ]
  },
  {
   "cell_type": "code",
   "execution_count": 39,
   "metadata": {},
   "outputs": [
    {
     "data": {
      "image/png": "[encoded data removed]",
      "text/plain": [
       "<Figure size 216x144 with 1 Axes>"
      ]
     },
     "metadata": {
      "needs_background": "light"
     },
     "output_type": "display_data"
    },
    {
     "data": {
      "image/png": "[encoded data removed]",
      "text/plain": [
       "<Figure size 216x144 with 1 Axes>"
      ]
     },
     "metadata": {
      "needs_background": "light"
     },
     "output_type": "display_data"
    },
    {
     "data": {
      "image/png": "[encoded data removed]",
      "text/plain": [
       "<Figure size 216x144 with 1 Axes>"
      ]
     },
     "metadata": {
      "needs_background": "light"
     },
     "output_type": "display_data"
    }
   ],
   "source": [
    "#Realizamos diagramas de caja para identificar outliers, a través de los diagramas se puede observar que hay valores atípicos\n",
    "#en todas las columnas\n",
    "fig1 = plt.figure(figsize =(3, 2))\n",
    "plt.boxplot(df[\"bathrooms\"]) \n",
    "plt.title(\"Outliers columna bathrooms\")\n",
    "plt.show() \n",
    "\n",
    "\n",
    "fig2 = plt.figure(figsize =(3, 2))\n",
    "plt.boxplot(df[\"beds\"]) \n",
    "plt.title(\"Outliers columna beds\")\n",
    "plt.show() \n",
    "\n",
    "fig3 = plt.figure(figsize =(3, 2))\n",
    "plt.boxplot(df[\"bedrooms\"]) \n",
    "plt.title(\"Outliers columna bedrooms\")\n",
    "plt.show() "
   ]
  },
  {
   "cell_type": "code",
   "execution_count": 40,
   "metadata": {},
   "outputs": [
    {
     "data": {
      "image/png": "[encoded data removed]",
      "text/plain": [
       "<Figure size 216x144 with 1 Axes>"
      ]
     },
     "metadata": {
      "needs_background": "light"
     },
     "output_type": "display_data"
    },
    {
     "data": {
      "image/png": "[encoded data removed]",
      "text/plain": [
       "<Figure size 216x144 with 1 Axes>"
      ]
     },
     "metadata": {
      "needs_background": "light"
     },
     "output_type": "display_data"
    },
    {
     "data": {
      "image/png": "[encoded data removed]",
      "text/plain": [
       "<Figure size 216x144 with 1 Axes>"
      ]
     },
     "metadata": {
      "needs_background": "light"
     },
     "output_type": "display_data"
    }
   ],
   "source": [
    "#Realizamos diagramas de caja para identificar outliers, a través de los diagramas se puede observar que hay valores atípicos\n",
    "#en todas las columnas\n",
    "fig1 = plt.figure(figsize =(3, 2))\n",
    "plt.boxplot(df[\"price\"]) \n",
    "plt.title(\"Outliers columna price\")\n",
    "plt.show() \n",
    "\n",
    "\n",
    "fig2 = plt.figure(figsize =(3, 2))\n",
    "plt.boxplot(df[\"minimum_nights\"]) \n",
    "plt.title(\"Outliers columna minimum_nights\")\n",
    "plt.show() \n",
    "\n",
    "fig3 = plt.figure(figsize =(3, 2))\n",
    "plt.boxplot(df[\"maximum_nights\"]) \n",
    "plt.title(\"Outliers columna maximum_nights\")\n",
    "plt.show() "
   ]
  },
  {
   "cell_type": "code",
   "execution_count": 41,
   "metadata": {},
   "outputs": [
    {
     "data": {
      "image/png": "[encoded data removed]",
      "text/plain": [
       "<Figure size 216x144 with 1 Axes>"
      ]
     },
     "metadata": {
      "needs_background": "light"
     },
     "output_type": "display_data"
    },
    {
     "data": {
      "image/png": "[encoded data removed]",
      "text/plain": [
       "<Figure size 216x144 with 1 Axes>"
      ]
     },
     "metadata": {
      "needs_background": "light"
     },
     "output_type": "display_data"
    },
    {
     "data": {
      "image/png": "[encoded data removed]",
      "text/plain": [
       "<Figure size 216x144 with 1 Axes>"
      ]
     },
     "metadata": {
      "needs_background": "light"
     },
     "output_type": "display_data"
    }
   ],
   "source": [
    "#Realizamos diagramas de caja para identificar outliers, a través de los diagramas se puede observar que hay valores atípicos\n",
    "#en todas las columnas excepto en la de disponibilidad 30\n",
    "fig1 = plt.figure(figsize =(3, 2))\n",
    "plt.boxplot(df[\"minimum_nights_avg_ntm\"]) \n",
    "plt.title(\"Outliers columna minimum_nights_avg_ntm\")\n",
    "plt.show() \n",
    "\n",
    "\n",
    "fig2 = plt.figure(figsize =(3, 2))\n",
    "plt.boxplot(df[\"maximum_nights_avg_ntm\"]) \n",
    "plt.title(\"Outliers columna maximum_nights_avg_ntm\")\n",
    "plt.show() \n",
    "\n",
    "fig3 = plt.figure(figsize =(3, 2))\n",
    "plt.boxplot(df[\"availability_30\"]) \n",
    "plt.title(\"Outliers columna availability_30\")\n",
    "plt.show() "
   ]
  },
  {
   "cell_type": "code",
   "execution_count": 42,
   "metadata": {},
   "outputs": [
    {
     "data": {
      "image/png": "[encoded data removed]",
      "text/plain": [
       "<Figure size 216x144 with 1 Axes>"
      ]
     },
     "metadata": {
      "needs_background": "light"
     },
     "output_type": "display_data"
    },
    {
     "data": {
      "image/png": "[encoded data removed]",
      "text/plain": [
       "<Figure size 216x144 with 1 Axes>"
      ]
     },
     "metadata": {
      "needs_background": "light"
     },
     "output_type": "display_data"
    },
    {
     "data": {
      "image/png": "[encoded data removed]",
      "text/plain": [
       "<Figure size 216x144 with 1 Axes>"
      ]
     },
     "metadata": {
      "needs_background": "light"
     },
     "output_type": "display_data"
    }
   ],
   "source": [
    "#Realizamos diagramas de caja para identificar outliers, a través de los diagramas se puede observar que no hay valores atípicos\n",
    "fig1 = plt.figure(figsize =(3, 2))\n",
    "plt.boxplot(df[\"availability_60\"]) \n",
    "plt.title(\"Outliers columna availability_60\")\n",
    "plt.show() \n",
    "\n",
    "\n",
    "fig2 = plt.figure(figsize =(3, 2))\n",
    "plt.boxplot(df[\"availability_90\"]) \n",
    "plt.title(\"Outliers columna availability_90\")\n",
    "plt.show() \n",
    "\n",
    "fig3 = plt.figure(figsize =(3, 2))\n",
    "plt.boxplot(df[\"availability_365\"]) \n",
    "plt.title(\"Outliers columna availability_365\")\n",
    "plt.show() "
   ]
  },
  {
   "cell_type": "code",
   "execution_count": 43,
   "metadata": {},
   "outputs": [
    {
     "data": {
      "image/png": "[encoded data removed]",
      "text/plain": [
       "<Figure size 216x144 with 1 Axes>"
      ]
     },
     "metadata": {
      "needs_background": "light"
     },
     "output_type": "display_data"
    },
    {
     "data": {
      "image/png": "[encoded data removed]",
      "text/plain": [
       "<Figure size 216x144 with 1 Axes>"
      ]
     },
     "metadata": {
      "needs_background": "light"
     },
     "output_type": "display_data"
    },
    {
     "data": {
      "image/png": "[encoded data removed]",
      "text/plain": [
       "<Figure size 216x144 with 1 Axes>"
      ]
     },
     "metadata": {
      "needs_background": "light"
     },
     "output_type": "display_data"
    }
   ],
   "source": [
    "#Realizamos diagramas de caja para identificar outliers, a través de los diagramas se puede observar que hay valores atípicos\n",
    "#en todas las columnas, de cualquier manera, se tomo la decisión de no reemplazar los valores atípicos de las variables de \n",
    "#reviews ya que están en el rango del 1-5\n",
    "fig1 = plt.figure(figsize =(3, 2))\n",
    "plt.boxplot(df[\"number_of_reviews_ltm\"]) \n",
    "plt.title(\"Outliers columna number_of_reviews_ltm\")\n",
    "plt.show() \n",
    "\n",
    "\n",
    "fig2 = plt.figure(figsize =(3, 2))\n",
    "plt.boxplot(df[\"review_scores_rating\"]) \n",
    "plt.title(\"Outliers columna review_scores_rating\")\n",
    "plt.show() \n",
    "\n",
    "fig3 = plt.figure(figsize =(3, 2))\n",
    "plt.boxplot(df[\"review_scores_accuracy\"]) \n",
    "plt.title(\"Outliers columna review_scores_accuracy\")\n",
    "plt.show() "
   ]
  },
  {
   "cell_type": "code",
   "execution_count": 44,
   "metadata": {},
   "outputs": [
    {
     "data": {
      "image/png": "[encoded data removed]",
      "text/plain": [
       "<Figure size 216x144 with 1 Axes>"
      ]
     },
     "metadata": {
      "needs_background": "light"
     },
     "output_type": "display_data"
    },
    {
     "data": {
      "image/png": "[encoded data removed]",
      "text/plain": [
       "<Figure size 216x144 with 1 Axes>"
      ]
     },
     "metadata": {
      "needs_background": "light"
     },
     "output_type": "display_data"
    },
    {
     "data": {
      "image/png": "[encoded data removed]",
      "text/plain": [
       "<Figure size 216x144 with 1 Axes>"
      ]
     },
     "metadata": {
      "needs_background": "light"
     },
     "output_type": "display_data"
    }
   ],
   "source": [
    "#Realizamos diagramas de caja para identificar outliers, a través de los diagramas se puede observar que hay valores atípicos\n",
    "#en todas las columnas, de cualquier manera, se tomo la decisión de no reemplazar los valores atípicos de las variables de \n",
    "#reviews ya que están en el rango del 1-5\n",
    "fig1 = plt.figure(figsize =(3, 2))\n",
    "plt.boxplot(df[\"review_scores_cleanliness\"]) \n",
    "plt.title(\"Outliers columna review_scores_cleanliness\")\n",
    "plt.show() \n",
    "\n",
    "\n",
    "fig2 = plt.figure(figsize =(3, 2))\n",
    "plt.boxplot(df[\"review_scores_checkin\"]) \n",
    "plt.title(\"Outliers columna review_scores_checkin\")\n",
    "plt.show() \n",
    "\n",
    "fig3 = plt.figure(figsize =(3, 2))\n",
    "plt.boxplot(df[\"review_scores_communication\"]) \n",
    "plt.title(\"Outliers columna review_scores_communication\")\n",
    "plt.show() "
   ]
  },
  {
   "cell_type": "code",
   "execution_count": 45,
   "metadata": {},
   "outputs": [
    {
     "data": {
      "image/png": "[encoded data removed]",
      "text/plain": [
       "<Figure size 216x144 with 1 Axes>"
      ]
     },
     "metadata": {
      "needs_background": "light"
     },
     "output_type": "display_data"
    },
    {
     "data": {
      "image/png": "[encoded data removed]",
      "text/plain": [
       "<Figure size 216x144 with 1 Axes>"
      ]
     },
     "metadata": {
      "needs_background": "light"
     },
     "output_type": "display_data"
    },
    {
     "data": {
      "image/png": "[encoded data removed]",
      "text/plain": [
       "<Figure size 216x144 with 1 Axes>"
      ]
     },
     "metadata": {
      "needs_background": "light"
     },
     "output_type": "display_data"
    },
    {
     "data": {
      "image/png": "[encoded data removed]",
      "text/plain": [
       "<Figure size 216x144 with 1 Axes>"
      ]
     },
     "metadata": {
      "needs_background": "light"
     },
     "output_type": "display_data"
    }
   ],
   "source": [
    "#Realizamos diagramas de caja para identificar outliers, a través de los diagramas se puede observar que hay valores atípicos\n",
    "#en todas las columnas, de cualquier manera, se tomo la decisión de no reemplazar los valores atípicos de las variables de \n",
    "#reviews ya que están en el rango del 1-5\n",
    "fig1 = plt.figure(figsize =(3, 2))\n",
    "plt.boxplot(df[\"review_scores_location\"]) \n",
    "plt.title(\"Outliers columna review_scores_location\")\n",
    "plt.show() \n",
    "\n",
    "\n",
    "fig2 = plt.figure(figsize =(3, 2))\n",
    "plt.boxplot(df[\"review_scores_value\"]) \n",
    "plt.title(\"Outliers columna review_scores_value\")\n",
    "plt.show() \n",
    "\n",
    "fig3 = plt.figure(figsize =(3, 2))\n",
    "plt.boxplot(df[\"calculated_host_listings_count\"]) \n",
    "plt.title(\"Outliers columna calculated_host_listings_count\")\n",
    "plt.show() \n",
    "\n",
    "fig4 = plt.figure(figsize =(3, 2))\n",
    "plt.boxplot(df[\"reviews_per_month\"]) \n",
    "plt.title(\"Outliers columna reviews_per_month\")\n",
    "plt.show() "
   ]
  },
  {
   "cell_type": "code",
   "execution_count": 46,
   "metadata": {},
   "outputs": [
    {
     "name": "stdout",
     "output_type": "stream",
     "text": [
      "Limite superior permitido 1.15\n",
      "Limite inferior permitido 0.75\n"
     ]
    }
   ],
   "source": [
    "#A través de investigación se encontró que el método más efectivo para detectar valores atípicos es el rango intercuartil.\n",
    "#Asimismo, se encontró que se definen como atípicos los valores que son mayores a 1.5 IQR debajo del primer cuartil o arriba del tercer cuartil,\n",
    "#Por ende, decidimos utilizar ese rango\n",
    "#Aplicar método de rango intercuartílico para identificar outliers, tomando como límites 1.5 IQR \n",
    "y_1=df[\"host_response_rate\"]\n",
    "\n",
    "percentile25_1=y_1.quantile(0.25) #Q1\n",
    "percentile75_1=y_1.quantile(0.75) #Q3\n",
    "iqr_1= percentile75_1 - percentile25_1\n",
    "\n",
    "limite_superior_iqr_1= percentile75_1 + 1.5*iqr_1\n",
    "limite_inferior_iqr_1= percentile25_1 - 1.5*iqr_1\n",
    "print(\"Limite superior permitido\", limite_superior_iqr_1)\n",
    "print(\"Limite inferior permitido\", limite_inferior_iqr_1)"
   ]
  },
  {
   "cell_type": "code",
   "execution_count": 47,
   "metadata": {},
   "outputs": [
    {
     "data": {
      "text/plain": [
       "1921"
      ]
     },
     "execution_count": 47,
     "metadata": {},
     "output_type": "execute_result"
    }
   ],
   "source": [
    "#Identificar outliers\n",
    "outliers_iqr_1= df[(y_1>limite_superior_iqr_1)|(y_1<limite_inferior_iqr_1)]\n",
    "outliers_iqr_1\n",
    "len(outliers_iqr_1)"
   ]
  },
  {
   "cell_type": "code",
   "execution_count": 48,
   "metadata": {},
   "outputs": [
    {
     "name": "stdout",
     "output_type": "stream",
     "text": [
      "Limite superior permitido 1.2550000000000001\n",
      "Limite inferior permitido 0.575\n"
     ]
    }
   ],
   "source": [
    "#Aplicar método de rango intercuartílico para identificar outliers, tomando como límites 1.5 IQR \n",
    "y_2=df[\"host_acceptance_rate\"]\n",
    "\n",
    "percentile25_2=y_2.quantile(0.25) #Q1\n",
    "percentile75_2=y_2.quantile(0.75) #Q3\n",
    "iqr_2= percentile75_2 - percentile25_2\n",
    "\n",
    "limite_superior_iqr_2= percentile75_2 + 1.5*iqr_2\n",
    "limite_inferior_iqr_2= percentile25_2 - 1.5*iqr_2\n",
    "print(\"Limite superior permitido\", limite_superior_iqr_2)\n",
    "print(\"Limite inferior permitido\", limite_inferior_iqr_2)"
   ]
  },
  {
   "cell_type": "code",
   "execution_count": 49,
   "metadata": {},
   "outputs": [
    {
     "data": {
      "text/plain": [
       "1772"
      ]
     },
     "execution_count": 49,
     "metadata": {},
     "output_type": "execute_result"
    }
   ],
   "source": [
    "#Identificar outliers\n",
    "outliers_iqr_2= df[(y_2>limite_superior_iqr_2)|(y_2<limite_inferior_iqr_2)]\n",
    "outliers_iqr_2\n",
    "len(outliers_iqr_2)"
   ]
  },
  {
   "cell_type": "code",
   "execution_count": 50,
   "metadata": {},
   "outputs": [
    {
     "name": "stdout",
     "output_type": "stream",
     "text": [
      "Limite superior permitido 7.0\n",
      "Limite inferior permitido -1.0\n"
     ]
    }
   ],
   "source": [
    "#Aplicar método de rango intercuartílico para identificar outliers, tomando como límites 1.5 IQR \n",
    "y_3=df[\"accommodates\"]\n",
    "\n",
    "percentile25_3=y_3.quantile(0.25) #Q1\n",
    "percentile75_3=y_3.quantile(0.75) #Q3\n",
    "iqr_3= percentile75_3 - percentile25_3\n",
    "\n",
    "limite_superior_iqr_3= percentile75_3 + 1.5*iqr_3\n",
    "limite_inferior_iqr_3= percentile25_3 - 1.5*iqr_3\n",
    "print(\"Limite superior permitido\", limite_superior_iqr_3)\n",
    "print(\"Limite inferior permitido\", limite_inferior_iqr_3)"
   ]
  },
  {
   "cell_type": "code",
   "execution_count": 51,
   "metadata": {},
   "outputs": [
    {
     "data": {
      "text/plain": [
       "916"
      ]
     },
     "execution_count": 51,
     "metadata": {},
     "output_type": "execute_result"
    }
   ],
   "source": [
    "#Identificar outliers\n",
    "outliers_iqr_3= df[(y_3>limite_superior_iqr_3)|(y_3<limite_inferior_iqr_3)]\n",
    "outliers_iqr_3\n",
    "len(outliers_iqr_3)"
   ]
  },
  {
   "cell_type": "code",
   "execution_count": 52,
   "metadata": {},
   "outputs": [
    {
     "name": "stdout",
     "output_type": "stream",
     "text": [
      "Limite superior permitido 3.5\n",
      "Limite inferior permitido -0.5\n"
     ]
    }
   ],
   "source": [
    "#Aplicar método de rango intercuartílico para identificar outliers, tomando como límites 1.5 IQR \n",
    "y_4=df[\"bathrooms\"]\n",
    "\n",
    "percentile25_4=y_4.quantile(0.25) #Q1\n",
    "percentile75_4=y_4.quantile(0.75) #Q3\n",
    "iqr_4= percentile75_4 - percentile25_4\n",
    "\n",
    "limite_superior_iqr_4= percentile75_4 + 1.5*iqr_4\n",
    "limite_inferior_iqr_4= percentile25_4 - 1.5*iqr_4\n",
    "print(\"Limite superior permitido\", limite_superior_iqr_4)\n",
    "print(\"Limite inferior permitido\", limite_inferior_iqr_4)"
   ]
  },
  {
   "cell_type": "code",
   "execution_count": 53,
   "metadata": {},
   "outputs": [
    {
     "data": {
      "text/plain": [
       "432"
      ]
     },
     "execution_count": 53,
     "metadata": {},
     "output_type": "execute_result"
    }
   ],
   "source": [
    "#Identificar outliers\n",
    "outliers_iqr_4= df[(y_4>limite_superior_iqr_4)|(y_4<limite_inferior_iqr_4)]\n",
    "outliers_iqr_4\n",
    "len(outliers_iqr_4)"
   ]
  },
  {
   "cell_type": "code",
   "execution_count": 54,
   "metadata": {},
   "outputs": [
    {
     "name": "stdout",
     "output_type": "stream",
     "text": [
      "Limite superior permitido 3.5\n",
      "Limite inferior permitido -0.5\n"
     ]
    }
   ],
   "source": [
    "#Aplicar método de rango intercuartílico para identificar outliers, tomando como límites 1.5 IQR \n",
    "y_5=df[\"beds\"]\n",
    "\n",
    "percentile25_5=y_5.quantile(0.25) #Q1\n",
    "percentile75_5=y_5.quantile(0.75) #Q3\n",
    "iqr_5= percentile75_5 - percentile25_5\n",
    "\n",
    "limite_superior_iqr_5= percentile75_5 + 1.5*iqr_5\n",
    "limite_inferior_iqr_5= percentile25_5 - 1.5*iqr_5\n",
    "print(\"Limite superior permitido\", limite_superior_iqr_5)\n",
    "print(\"Limite inferior permitido\", limite_inferior_iqr_5)"
   ]
  },
  {
   "cell_type": "code",
   "execution_count": 55,
   "metadata": {},
   "outputs": [
    {
     "data": {
      "text/plain": [
       "2125"
      ]
     },
     "execution_count": 55,
     "metadata": {},
     "output_type": "execute_result"
    }
   ],
   "source": [
    "#Identificar outliers\n",
    "outliers_iqr_5= df[(y_5>limite_superior_iqr_5)|(y_5<limite_inferior_iqr_5)]\n",
    "outliers_iqr_5\n",
    "len(outliers_iqr_5)"
   ]
  },
  {
   "cell_type": "code",
   "execution_count": 56,
   "metadata": {},
   "outputs": [
    {
     "name": "stdout",
     "output_type": "stream",
     "text": [
      "Limite superior permitido 3.5\n",
      "Limite inferior permitido -0.5\n"
     ]
    }
   ],
   "source": [
    "#Aplicar método de rango intercuartílico para identificar outliers, tomando como límites 1.5 IQR \n",
    "y_6=df[\"bedrooms\"]\n",
    "\n",
    "percentile25_6=y_6.quantile(0.25) #Q1\n",
    "percentile75_6=y_6.quantile(0.75) #Q3\n",
    "iqr_6= percentile75_6 - percentile25_6\n",
    "\n",
    "limite_superior_iqr_6= percentile75_6 + 1.5*iqr_6\n",
    "limite_inferior_iqr_6= percentile25_6 - 1.5*iqr_6\n",
    "print(\"Limite superior permitido\", limite_superior_iqr_6)\n",
    "print(\"Limite inferior permitido\", limite_inferior_iqr_6)"
   ]
  },
  {
   "cell_type": "code",
   "execution_count": 57,
   "metadata": {},
   "outputs": [
    {
     "data": {
      "text/plain": [
       "572"
      ]
     },
     "execution_count": 57,
     "metadata": {},
     "output_type": "execute_result"
    }
   ],
   "source": [
    "#Identificar outliers\n",
    "outliers_iqr_6= df[(y_6>limite_superior_iqr_6)|(y_6<limite_inferior_iqr_6)]\n",
    "outliers_iqr_6\n",
    "len(outliers_iqr_6)"
   ]
  },
  {
   "cell_type": "code",
   "execution_count": 58,
   "metadata": {},
   "outputs": [
    {
     "name": "stdout",
     "output_type": "stream",
     "text": [
      "Limite superior permitido 2975.0\n",
      "Limite inferior permitido -985.0\n"
     ]
    }
   ],
   "source": [
    "#Aplicar método de rango intercuartílico para identificar outliers, tomando como límites 1.5 IQR \n",
    "y_7=df[\"price\"]\n",
    "\n",
    "percentile25_7=y_7.quantile(0.25) #Q1\n",
    "percentile75_7=y_7.quantile(0.75) #Q3\n",
    "iqr_7= percentile75_7 - percentile25_7\n",
    "\n",
    "limite_superior_iqr_7= percentile75_7 + 1.5*iqr_7\n",
    "limite_inferior_iqr_7= percentile25_7 - 1.5*iqr_7\n",
    "print(\"Limite superior permitido\", limite_superior_iqr_7)\n",
    "print(\"Limite inferior permitido\", limite_inferior_iqr_7)"
   ]
  },
  {
   "cell_type": "code",
   "execution_count": 59,
   "metadata": {},
   "outputs": [
    {
     "data": {
      "text/plain": [
       "1585"
      ]
     },
     "execution_count": 59,
     "metadata": {},
     "output_type": "execute_result"
    }
   ],
   "source": [
    "#Identificar outliers\n",
    "outliers_iqr_7= df[(y_7>limite_superior_iqr_7)|(y_7<limite_inferior_iqr_7)]\n",
    "outliers_iqr_7\n",
    "len(outliers_iqr_7)"
   ]
  },
  {
   "cell_type": "code",
   "execution_count": 60,
   "metadata": {},
   "outputs": [
    {
     "name": "stdout",
     "output_type": "stream",
     "text": [
      "Limite superior permitido 3.5\n",
      "Limite inferior permitido -0.5\n"
     ]
    }
   ],
   "source": [
    "#Aplicar método de rango intercuartílico para identificar outliers, tomando como límites 1.5 IQR \n",
    "y_8=df[\"minimum_nights\"]\n",
    "\n",
    "percentile25_8=y_8.quantile(0.25) #Q1\n",
    "percentile75_8=y_8.quantile(0.75) #Q3\n",
    "iqr_8= percentile75_8 - percentile25_8\n",
    "\n",
    "limite_superior_iqr_8= percentile75_8 + 1.5*iqr_8\n",
    "limite_inferior_iqr_8= percentile25_8 - 1.5*iqr_8\n",
    "print(\"Limite superior permitido\", limite_superior_iqr_8)\n",
    "print(\"Limite inferior permitido\", limite_inferior_iqr_8)"
   ]
  },
  {
   "cell_type": "code",
   "execution_count": 61,
   "metadata": {},
   "outputs": [
    {
     "data": {
      "text/plain": [
       "3123"
      ]
     },
     "execution_count": 61,
     "metadata": {},
     "output_type": "execute_result"
    }
   ],
   "source": [
    "#Identificar outliers\n",
    "outliers_iqr_8= df[(y_8>limite_superior_iqr_8)|(y_8<limite_inferior_iqr_8)]\n",
    "outliers_iqr_8\n",
    "len(outliers_iqr_8)"
   ]
  },
  {
   "cell_type": "code",
   "execution_count": 62,
   "metadata": {},
   "outputs": [
    {
     "name": "stdout",
     "output_type": "stream",
     "text": [
      "Limite superior permitido 2632.5\n",
      "Limite inferior permitido -1387.5\n"
     ]
    }
   ],
   "source": [
    "#Aplicar método de rango intercuartílico para identificar outliers, tomando como límites 1.5 IQR \n",
    "y_9=df[\"maximum_nights\"]\n",
    "\n",
    "percentile25_9=y_9.quantile(0.25) #Q1\n",
    "percentile75_9=y_9.quantile(0.75) #Q3\n",
    "iqr_9= percentile75_9 - percentile25_9\n",
    "\n",
    "limite_superior_iqr_9= percentile75_9 + 1.5*iqr_9\n",
    "limite_inferior_iqr_9= percentile25_9 - 1.5*iqr_9\n",
    "print(\"Limite superior permitido\", limite_superior_iqr_9)\n",
    "print(\"Limite inferior permitido\", limite_inferior_iqr_9)"
   ]
  },
  {
   "cell_type": "code",
   "execution_count": 63,
   "metadata": {},
   "outputs": [
    {
     "data": {
      "text/plain": [
       "4"
      ]
     },
     "execution_count": 63,
     "metadata": {},
     "output_type": "execute_result"
    }
   ],
   "source": [
    "#Identificar outliers\n",
    "outliers_iqr_9= df[(y_9>limite_superior_iqr_9)|(y_9<limite_inferior_iqr_9)]\n",
    "outliers_iqr_9\n",
    "len(outliers_iqr_9)"
   ]
  },
  {
   "cell_type": "code",
   "execution_count": 64,
   "metadata": {},
   "outputs": [
    {
     "name": "stdout",
     "output_type": "stream",
     "text": [
      "Limite superior permitido 5.75\n",
      "Limite inferior permitido -1.8499999999999996\n"
     ]
    }
   ],
   "source": [
    "#Aplicar método de rango intercuartílico para identificar outliers, tomando como límites 1.5 IQR \n",
    "y_10=df[\"minimum_nights_avg_ntm\"]\n",
    "\n",
    "percentile25_10=y_10.quantile(0.25) #Q1\n",
    "percentile75_10=y_10.quantile(0.75) #Q3\n",
    "iqr_10= percentile75_10 - percentile25_10\n",
    "\n",
    "limite_superior_iqr_10= percentile75_10 + 1.5*iqr_10\n",
    "limite_inferior_iqr_10= percentile25_10 - 1.5*iqr_10\n",
    "print(\"Limite superior permitido\", limite_superior_iqr_10)\n",
    "print(\"Limite inferior permitido\", limite_inferior_iqr_10)"
   ]
  },
  {
   "cell_type": "code",
   "execution_count": 65,
   "metadata": {},
   "outputs": [
    {
     "data": {
      "text/plain": [
       "1889"
      ]
     },
     "execution_count": 65,
     "metadata": {},
     "output_type": "execute_result"
    }
   ],
   "source": [
    "#Identificar outliers\n",
    "outliers_iqr_10= df[(y_10>limite_superior_iqr_10)|(y_10<limite_inferior_iqr_10)]\n",
    "outliers_iqr_10\n",
    "len(outliers_iqr_10)"
   ]
  },
  {
   "cell_type": "code",
   "execution_count": 66,
   "metadata": {},
   "outputs": [
    {
     "name": "stdout",
     "output_type": "stream",
     "text": [
      "Limite superior permitido 2265.0\n",
      "Limite inferior permitido -775.0\n"
     ]
    }
   ],
   "source": [
    "#Aplicar método de rango intercuartílico para identificar outliers, tomando como límites 1.5 IQR \n",
    "y_11=df[\"maximum_nights_avg_ntm\"]\n",
    "\n",
    "percentile25_11=y_11.quantile(0.25) #Q1\n",
    "percentile75_11=y_11.quantile(0.75) #Q3\n",
    "iqr_11= percentile75_11 - percentile25_11\n",
    "\n",
    "limite_superior_iqr_11= percentile75_11 + 1.5*iqr_11\n",
    "limite_inferior_iqr_11= percentile25_11 - 1.5*iqr_11\n",
    "print(\"Limite superior permitido\", limite_superior_iqr_11)\n",
    "print(\"Limite inferior permitido\", limite_inferior_iqr_11)"
   ]
  },
  {
   "cell_type": "code",
   "execution_count": 67,
   "metadata": {},
   "outputs": [
    {
     "data": {
      "text/plain": [
       "4"
      ]
     },
     "execution_count": 67,
     "metadata": {},
     "output_type": "execute_result"
    }
   ],
   "source": [
    "#Identificar outliers\n",
    "outliers_iqr_11= df[(y_11>limite_superior_iqr_11)|(y_11<limite_inferior_iqr_11)]\n",
    "outliers_iqr_11\n",
    "len(outliers_iqr_11)"
   ]
  },
  {
   "cell_type": "code",
   "execution_count": 68,
   "metadata": {},
   "outputs": [
    {
     "name": "stdout",
     "output_type": "stream",
     "text": [
      "Limite superior permitido 40.0\n",
      "Limite inferior permitido -24.0\n"
     ]
    }
   ],
   "source": [
    "#Aplicar método de rango intercuartílico para identificar outliers, tomando como límites 1.5 IQR \n",
    "y_12=df[\"number_of_reviews_ltm\"]\n",
    "\n",
    "percentile25_12=y_12.quantile(0.25) #Q1\n",
    "percentile75_12=y_12.quantile(0.75) #Q3\n",
    "iqr_12= percentile75_12 - percentile25_12\n",
    "\n",
    "limite_superior_iqr_12= percentile75_12 + 1.5*iqr_12\n",
    "limite_inferior_iqr_12= percentile25_12 - 1.5*iqr_12\n",
    "print(\"Limite superior permitido\", limite_superior_iqr_12)\n",
    "print(\"Limite inferior permitido\", limite_inferior_iqr_12)"
   ]
  },
  {
   "cell_type": "code",
   "execution_count": 69,
   "metadata": {},
   "outputs": [
    {
     "data": {
      "text/plain": [
       "1674"
      ]
     },
     "execution_count": 69,
     "metadata": {},
     "output_type": "execute_result"
    }
   ],
   "source": [
    "#Identificar outliers\n",
    "outliers_iqr_12= df[(y_12>limite_superior_iqr_12)|(y_12<limite_inferior_iqr_12)]\n",
    "outliers_iqr_12\n",
    "len(outliers_iqr_12)"
   ]
  },
  {
   "cell_type": "code",
   "execution_count": 70,
   "metadata": {},
   "outputs": [
    {
     "name": "stdout",
     "output_type": "stream",
     "text": [
      "Limite superior permitido 18.5\n",
      "Limite inferior permitido -9.5\n"
     ]
    }
   ],
   "source": [
    "#Aplicar método de rango intercuartílico para identificar outliers, tomando como límites 1.5 IQR \n",
    "y_13=df[\"calculated_host_listings_count\"]\n",
    "\n",
    "percentile25_13=y_13.quantile(0.25) #Q1\n",
    "percentile75_13=y_13.quantile(0.75) #Q3\n",
    "iqr_13= percentile75_13 - percentile25_13\n",
    "\n",
    "limite_superior_iqr_13= percentile75_13 + 1.5*iqr_13\n",
    "limite_inferior_iqr_13= percentile25_13 - 1.5*iqr_13\n",
    "print(\"Limite superior permitido\", limite_superior_iqr_13)\n",
    "print(\"Limite inferior permitido\", limite_inferior_iqr_13)"
   ]
  },
  {
   "cell_type": "code",
   "execution_count": 71,
   "metadata": {},
   "outputs": [
    {
     "data": {
      "text/plain": [
       "3348"
      ]
     },
     "execution_count": 71,
     "metadata": {},
     "output_type": "execute_result"
    }
   ],
   "source": [
    "#Identificar outliers\n",
    "outliers_iqr_13= df[(y_13>limite_superior_iqr_13)|(y_13<limite_inferior_iqr_13)]\n",
    "outliers_iqr_13\n",
    "len(outliers_iqr_13)"
   ]
  },
  {
   "cell_type": "code",
   "execution_count": 72,
   "metadata": {},
   "outputs": [
    {
     "data": {
      "image/png": "[encoded data removed]",
      "text/plain": [
       "<Figure size 216x144 with 1 Axes>"
      ]
     },
     "metadata": {
      "needs_background": "light"
     },
     "output_type": "display_data"
    },
    {
     "data": {
      "image/png": "[encoded data removed]",
      "text/plain": [
       "<Figure size 216x144 with 1 Axes>"
      ]
     },
     "metadata": {
      "needs_background": "light"
     },
     "output_type": "display_data"
    },
    {
     "data": {
      "image/png": "[encoded data removed]",
      "text/plain": [
       "<Figure size 216x144 with 1 Axes>"
      ]
     },
     "metadata": {
      "needs_background": "light"
     },
     "output_type": "display_data"
    }
   ],
   "source": [
    "#Se decidió sustituir ciertas variables con la moda, de las que restan se graficarán histogramas para saber\n",
    "#si se sigue la distribución normal para sustituir con promedios\n",
    "#Para la columna de accommodates se encuentra distribución relativamente normal\n",
    "fig1 = plt.figure(figsize =(3, 2))\n",
    "plt.hist(df[\"host_response_rate\"])\n",
    "plt.title(\"Distribución columna host_response_rate\")\n",
    "plt.show() \n",
    "\n",
    "fig2 = plt.figure(figsize =(3, 2))\n",
    "plt.hist(df[\"host_acceptance_rate\"])\n",
    "plt.title(\"Distribución columna host_acceptance_rate\")\n",
    "plt.show() \n",
    "\n",
    "fig3 = plt.figure(figsize =(3, 2))\n",
    "plt.hist(df[\"accommodates\"])\n",
    "plt.title(\"Distribución columna accommodates\")\n",
    "plt.show() "
   ]
  },
  {
   "cell_type": "code",
   "execution_count": 73,
   "metadata": {},
   "outputs": [
    {
     "data": {
      "image/png": "[encoded data removed]",
      "text/plain": [
       "<Figure size 216x144 with 1 Axes>"
      ]
     },
     "metadata": {
      "needs_background": "light"
     },
     "output_type": "display_data"
    },
    {
     "data": {
      "image/png": "[encoded data removed]",
      "text/plain": [
       "<Figure size 216x144 with 1 Axes>"
      ]
     },
     "metadata": {
      "needs_background": "light"
     },
     "output_type": "display_data"
    },
    {
     "data": {
      "image/png": "[encoded data removed]",
      "text/plain": [
       "<Figure size 216x144 with 1 Axes>"
      ]
     },
     "metadata": {
      "needs_background": "light"
     },
     "output_type": "display_data"
    }
   ],
   "source": [
    "fig1 = plt.figure(figsize =(3, 2))\n",
    "plt.hist(df[\"bathrooms\"])\n",
    "plt.title(\"Distribución columna bathrooms\")\n",
    "plt.show() \n",
    "\n",
    "fig2 = plt.figure(figsize =(3, 2))\n",
    "plt.hist(df[\"beds\"])\n",
    "plt.title(\"Distribución columna beds\")\n",
    "plt.show() \n",
    "\n",
    "fig3 = plt.figure(figsize =(3, 2))\n",
    "plt.hist(df[\"bedrooms\"])\n",
    "plt.title(\"Distribución columna bedrooms\")\n",
    "plt.show() "
   ]
  },
  {
   "cell_type": "code",
   "execution_count": 74,
   "metadata": {},
   "outputs": [
    {
     "data": {
      "image/png": "[encoded data removed]",
      "text/plain": [
       "<Figure size 216x144 with 1 Axes>"
      ]
     },
     "metadata": {
      "needs_background": "light"
     },
     "output_type": "display_data"
    },
    {
     "data": {
      "image/png": "[encoded data removed]",
      "text/plain": [
       "<Figure size 216x144 with 1 Axes>"
      ]
     },
     "metadata": {
      "needs_background": "light"
     },
     "output_type": "display_data"
    },
    {
     "data": {
      "image/png": "[encoded data removed]",
      "text/plain": [
       "<Figure size 216x144 with 1 Axes>"
      ]
     },
     "metadata": {
      "needs_background": "light"
     },
     "output_type": "display_data"
    }
   ],
   "source": [
    "fig1 = plt.figure(figsize =(3, 2))\n",
    "plt.hist(df[\"price\"])\n",
    "plt.title(\"Distribución columna price\")\n",
    "plt.show() \n",
    "\n",
    "fig2 = plt.figure(figsize =(3, 2))\n",
    "plt.hist(df[\"number_of_reviews_ltm\"])\n",
    "plt.title(\"Distribución columna number_of_reviews_ltm\")\n",
    "plt.show() \n",
    "\n",
    "fig3 = plt.figure(figsize =(3, 2))\n",
    "plt.hist(df[\"calculated_host_listings_count\"])\n",
    "plt.title(\"Distribución columna calculated_host_listings_count\")\n",
    "plt.show() "
   ]
  },
  {
   "cell_type": "code",
   "execution_count": 75,
   "metadata": {},
   "outputs": [
    {
     "data": {
      "text/plain": [
       "1.0"
      ]
     },
     "execution_count": 75,
     "metadata": {},
     "output_type": "execute_result"
    }
   ],
   "source": [
    "#Se obtiene la mediana para poder sustituir los valores atípicos\n",
    "st.median(df.bathrooms)"
   ]
  },
  {
   "cell_type": "code",
   "execution_count": 76,
   "metadata": {},
   "outputs": [],
   "source": [
    "#Se sustituyen los valores atípicos\n",
    "df[\"bathrooms\"] = np.where(((df[\"bathrooms\"]>limite_superior_iqr_4)|(df[\"bathrooms\"]<limite_inferior_iqr_4)),1,df['bathrooms'])"
   ]
  },
  {
   "cell_type": "code",
   "execution_count": 77,
   "metadata": {},
   "outputs": [
    {
     "data": {
      "text/html": [
       "<div>\n",
       "<style scoped>\n",
       "    .dataframe tbody tr th:only-of-type {\n",
       "        vertical-align: middle;\n",
       "    }\n",
       "\n",
       "    .dataframe tbody tr th {\n",
       "        vertical-align: top;\n",
       "    }\n",
       "\n",
       "    .dataframe thead th {\n",
       "        text-align: right;\n",
       "    }\n",
       "</style>\n",
       "<table border=\"1\" class=\"dataframe\">\n",
       "  <thead>\n",
       "    <tr style=\"text-align: right;\">\n",
       "      <th></th>\n",
       "      <th>id</th>\n",
       "      <th>host_id</th>\n",
       "      <th>host_location</th>\n",
       "      <th>host_response_time</th>\n",
       "      <th>host_response_rate</th>\n",
       "      <th>host_acceptance_rate</th>\n",
       "      <th>host_is_superhost</th>\n",
       "      <th>host_neighbourhood</th>\n",
       "      <th>host_verifications</th>\n",
       "      <th>host_has_profile_pic</th>\n",
       "      <th>...</th>\n",
       "      <th>review_scores_rating</th>\n",
       "      <th>review_scores_accuracy</th>\n",
       "      <th>review_scores_cleanliness</th>\n",
       "      <th>review_scores_checkin</th>\n",
       "      <th>review_scores_communication</th>\n",
       "      <th>review_scores_location</th>\n",
       "      <th>review_scores_value</th>\n",
       "      <th>instant_bookable</th>\n",
       "      <th>calculated_host_listings_count</th>\n",
       "      <th>reviews_per_month</th>\n",
       "    </tr>\n",
       "  </thead>\n",
       "  <tbody>\n",
       "  </tbody>\n",
       "</table>\n",
       "<p>0 rows × 41 columns</p>\n",
       "</div>"
      ],
      "text/plain": [
       "Empty DataFrame\n",
       "Columns: [id, host_id, host_location, host_response_time, host_response_rate, host_acceptance_rate, host_is_superhost, host_neighbourhood, host_verifications, host_has_profile_pic, host_identity_verified, neighbourhood_cleansed, latitude, longitude, property_type, room_type, accommodates, bathrooms, bedrooms, beds, amenities, price, minimum_nights, maximum_nights, minimum_nights_avg_ntm, maximum_nights_avg_ntm, availability_30, availability_60, availability_90, availability_365, number_of_reviews_ltm, review_scores_rating, review_scores_accuracy, review_scores_cleanliness, review_scores_checkin, review_scores_communication, review_scores_location, review_scores_value, instant_bookable, calculated_host_listings_count, reviews_per_month]\n",
       "Index: []\n",
       "\n",
       "[0 rows x 41 columns]"
      ]
     },
     "execution_count": 77,
     "metadata": {},
     "output_type": "execute_result"
    }
   ],
   "source": [
    "#Comprobar que se sustituyeron los outliers\n",
    "outliers1= df[(df[\"bathrooms\"]>limite_superior_iqr_4)|(df[\"bathrooms\"]<limite_inferior_iqr_4)]\n",
    "outliers1"
   ]
  },
  {
   "cell_type": "code",
   "execution_count": 78,
   "metadata": {},
   "outputs": [
    {
     "data": {
      "text/plain": [
       "1.0"
      ]
     },
     "execution_count": 78,
     "metadata": {},
     "output_type": "execute_result"
    }
   ],
   "source": [
    "#Se obtiene la mediana para poder sustituir los valores atípicos\n",
    "st.median(df.beds)"
   ]
  },
  {
   "cell_type": "code",
   "execution_count": 79,
   "metadata": {},
   "outputs": [],
   "source": [
    "#Se sustituyen los valores atípicos\n",
    "df[\"beds\"] = np.where(((df[\"beds\"]>limite_superior_iqr_5)|(df[\"beds\"]<limite_inferior_iqr_5)),1,df['beds'])"
   ]
  },
  {
   "cell_type": "code",
   "execution_count": 80,
   "metadata": {},
   "outputs": [
    {
     "data": {
      "text/html": [
       "<div>\n",
       "<style scoped>\n",
       "    .dataframe tbody tr th:only-of-type {\n",
       "        vertical-align: middle;\n",
       "    }\n",
       "\n",
       "    .dataframe tbody tr th {\n",
       "        vertical-align: top;\n",
       "    }\n",
       "\n",
       "    .dataframe thead th {\n",
       "        text-align: right;\n",
       "    }\n",
       "</style>\n",
       "<table border=\"1\" class=\"dataframe\">\n",
       "  <thead>\n",
       "    <tr style=\"text-align: right;\">\n",
       "      <th></th>\n",
       "      <th>id</th>\n",
       "      <th>host_id</th>\n",
       "      <th>host_location</th>\n",
       "      <th>host_response_time</th>\n",
       "      <th>host_response_rate</th>\n",
       "      <th>host_acceptance_rate</th>\n",
       "      <th>host_is_superhost</th>\n",
       "      <th>host_neighbourhood</th>\n",
       "      <th>host_verifications</th>\n",
       "      <th>host_has_profile_pic</th>\n",
       "      <th>...</th>\n",
       "      <th>review_scores_rating</th>\n",
       "      <th>review_scores_accuracy</th>\n",
       "      <th>review_scores_cleanliness</th>\n",
       "      <th>review_scores_checkin</th>\n",
       "      <th>review_scores_communication</th>\n",
       "      <th>review_scores_location</th>\n",
       "      <th>review_scores_value</th>\n",
       "      <th>instant_bookable</th>\n",
       "      <th>calculated_host_listings_count</th>\n",
       "      <th>reviews_per_month</th>\n",
       "    </tr>\n",
       "  </thead>\n",
       "  <tbody>\n",
       "  </tbody>\n",
       "</table>\n",
       "<p>0 rows × 41 columns</p>\n",
       "</div>"
      ],
      "text/plain": [
       "Empty DataFrame\n",
       "Columns: [id, host_id, host_location, host_response_time, host_response_rate, host_acceptance_rate, host_is_superhost, host_neighbourhood, host_verifications, host_has_profile_pic, host_identity_verified, neighbourhood_cleansed, latitude, longitude, property_type, room_type, accommodates, bathrooms, bedrooms, beds, amenities, price, minimum_nights, maximum_nights, minimum_nights_avg_ntm, maximum_nights_avg_ntm, availability_30, availability_60, availability_90, availability_365, number_of_reviews_ltm, review_scores_rating, review_scores_accuracy, review_scores_cleanliness, review_scores_checkin, review_scores_communication, review_scores_location, review_scores_value, instant_bookable, calculated_host_listings_count, reviews_per_month]\n",
       "Index: []\n",
       "\n",
       "[0 rows x 41 columns]"
      ]
     },
     "execution_count": 80,
     "metadata": {},
     "output_type": "execute_result"
    }
   ],
   "source": [
    "#Comprobar que se sustituyeron los outliers\n",
    "outliers2= df[(df[\"beds\"]>limite_superior_iqr_5)|(df[\"beds\"]<limite_inferior_iqr_5)]\n",
    "outliers2"
   ]
  },
  {
   "cell_type": "code",
   "execution_count": 81,
   "metadata": {},
   "outputs": [
    {
     "data": {
      "text/plain": [
       "1.0"
      ]
     },
     "execution_count": 81,
     "metadata": {},
     "output_type": "execute_result"
    }
   ],
   "source": [
    "#Se obtiene la mediana para poder sustituir los valores atípicos\n",
    "st.median(df.bedrooms)"
   ]
  },
  {
   "cell_type": "code",
   "execution_count": 82,
   "metadata": {},
   "outputs": [],
   "source": [
    "#Se sustituyen los valores atípicos\n",
    "df[\"bedrooms\"] = np.where(((df[\"bedrooms\"]>limite_superior_iqr_6)|(df[\"bedrooms\"]<limite_inferior_iqr_6)),1,df['bedrooms'])"
   ]
  },
  {
   "cell_type": "code",
   "execution_count": 83,
   "metadata": {},
   "outputs": [
    {
     "data": {
      "text/html": [
       "<div>\n",
       "<style scoped>\n",
       "    .dataframe tbody tr th:only-of-type {\n",
       "        vertical-align: middle;\n",
       "    }\n",
       "\n",
       "    .dataframe tbody tr th {\n",
       "        vertical-align: top;\n",
       "    }\n",
       "\n",
       "    .dataframe thead th {\n",
       "        text-align: right;\n",
       "    }\n",
       "</style>\n",
       "<table border=\"1\" class=\"dataframe\">\n",
       "  <thead>\n",
       "    <tr style=\"text-align: right;\">\n",
       "      <th></th>\n",
       "      <th>id</th>\n",
       "      <th>host_id</th>\n",
       "      <th>host_location</th>\n",
       "      <th>host_response_time</th>\n",
       "      <th>host_response_rate</th>\n",
       "      <th>host_acceptance_rate</th>\n",
       "      <th>host_is_superhost</th>\n",
       "      <th>host_neighbourhood</th>\n",
       "      <th>host_verifications</th>\n",
       "      <th>host_has_profile_pic</th>\n",
       "      <th>...</th>\n",
       "      <th>review_scores_rating</th>\n",
       "      <th>review_scores_accuracy</th>\n",
       "      <th>review_scores_cleanliness</th>\n",
       "      <th>review_scores_checkin</th>\n",
       "      <th>review_scores_communication</th>\n",
       "      <th>review_scores_location</th>\n",
       "      <th>review_scores_value</th>\n",
       "      <th>instant_bookable</th>\n",
       "      <th>calculated_host_listings_count</th>\n",
       "      <th>reviews_per_month</th>\n",
       "    </tr>\n",
       "  </thead>\n",
       "  <tbody>\n",
       "  </tbody>\n",
       "</table>\n",
       "<p>0 rows × 41 columns</p>\n",
       "</div>"
      ],
      "text/plain": [
       "Empty DataFrame\n",
       "Columns: [id, host_id, host_location, host_response_time, host_response_rate, host_acceptance_rate, host_is_superhost, host_neighbourhood, host_verifications, host_has_profile_pic, host_identity_verified, neighbourhood_cleansed, latitude, longitude, property_type, room_type, accommodates, bathrooms, bedrooms, beds, amenities, price, minimum_nights, maximum_nights, minimum_nights_avg_ntm, maximum_nights_avg_ntm, availability_30, availability_60, availability_90, availability_365, number_of_reviews_ltm, review_scores_rating, review_scores_accuracy, review_scores_cleanliness, review_scores_checkin, review_scores_communication, review_scores_location, review_scores_value, instant_bookable, calculated_host_listings_count, reviews_per_month]\n",
       "Index: []\n",
       "\n",
       "[0 rows x 41 columns]"
      ]
     },
     "execution_count": 83,
     "metadata": {},
     "output_type": "execute_result"
    }
   ],
   "source": [
    "#Comprobar que se sustituyeron los outliers\n",
    "outliers3= df[(df[\"bedrooms\"]>limite_superior_iqr_6)|(df[\"bedrooms\"]<limite_inferior_iqr_6)]\n",
    "outliers3"
   ]
  },
  {
   "cell_type": "code",
   "execution_count": 84,
   "metadata": {},
   "outputs": [
    {
     "data": {
      "text/plain": [
       "899.0"
      ]
     },
     "execution_count": 84,
     "metadata": {},
     "output_type": "execute_result"
    }
   ],
   "source": [
    "#Se obtiene la mediana para poder sustituir los valores atípicos\n",
    "st.median(df.price)"
   ]
  },
  {
   "cell_type": "code",
   "execution_count": 85,
   "metadata": {},
   "outputs": [],
   "source": [
    "#Se sustituyen los valores atípicos\n",
    "df[\"price\"] = np.where(((df[\"price\"]>limite_superior_iqr_7)|(df[\"price\"]<limite_inferior_iqr_7)),900,df['price'])"
   ]
  },
  {
   "cell_type": "code",
   "execution_count": 86,
   "metadata": {},
   "outputs": [
    {
     "data": {
      "text/html": [
       "<div>\n",
       "<style scoped>\n",
       "    .dataframe tbody tr th:only-of-type {\n",
       "        vertical-align: middle;\n",
       "    }\n",
       "\n",
       "    .dataframe tbody tr th {\n",
       "        vertical-align: top;\n",
       "    }\n",
       "\n",
       "    .dataframe thead th {\n",
       "        text-align: right;\n",
       "    }\n",
       "</style>\n",
       "<table border=\"1\" class=\"dataframe\">\n",
       "  <thead>\n",
       "    <tr style=\"text-align: right;\">\n",
       "      <th></th>\n",
       "      <th>id</th>\n",
       "      <th>host_id</th>\n",
       "      <th>host_location</th>\n",
       "      <th>host_response_time</th>\n",
       "      <th>host_response_rate</th>\n",
       "      <th>host_acceptance_rate</th>\n",
       "      <th>host_is_superhost</th>\n",
       "      <th>host_neighbourhood</th>\n",
       "      <th>host_verifications</th>\n",
       "      <th>host_has_profile_pic</th>\n",
       "      <th>...</th>\n",
       "      <th>review_scores_rating</th>\n",
       "      <th>review_scores_accuracy</th>\n",
       "      <th>review_scores_cleanliness</th>\n",
       "      <th>review_scores_checkin</th>\n",
       "      <th>review_scores_communication</th>\n",
       "      <th>review_scores_location</th>\n",
       "      <th>review_scores_value</th>\n",
       "      <th>instant_bookable</th>\n",
       "      <th>calculated_host_listings_count</th>\n",
       "      <th>reviews_per_month</th>\n",
       "    </tr>\n",
       "  </thead>\n",
       "  <tbody>\n",
       "  </tbody>\n",
       "</table>\n",
       "<p>0 rows × 41 columns</p>\n",
       "</div>"
      ],
      "text/plain": [
       "Empty DataFrame\n",
       "Columns: [id, host_id, host_location, host_response_time, host_response_rate, host_acceptance_rate, host_is_superhost, host_neighbourhood, host_verifications, host_has_profile_pic, host_identity_verified, neighbourhood_cleansed, latitude, longitude, property_type, room_type, accommodates, bathrooms, bedrooms, beds, amenities, price, minimum_nights, maximum_nights, minimum_nights_avg_ntm, maximum_nights_avg_ntm, availability_30, availability_60, availability_90, availability_365, number_of_reviews_ltm, review_scores_rating, review_scores_accuracy, review_scores_cleanliness, review_scores_checkin, review_scores_communication, review_scores_location, review_scores_value, instant_bookable, calculated_host_listings_count, reviews_per_month]\n",
       "Index: []\n",
       "\n",
       "[0 rows x 41 columns]"
      ]
     },
     "execution_count": 86,
     "metadata": {},
     "output_type": "execute_result"
    }
   ],
   "source": [
    "#Comprobar que se sustituyeron los outliers\n",
    "outliers4= df[(df[\"price\"]>limite_superior_iqr_7)|(df[\"price\"]<limite_inferior_iqr_7)]\n",
    "outliers4"
   ]
  },
  {
   "cell_type": "code",
   "execution_count": 87,
   "metadata": {},
   "outputs": [
    {
     "data": {
      "text/plain": [
       "1"
      ]
     },
     "execution_count": 87,
     "metadata": {},
     "output_type": "execute_result"
    }
   ],
   "source": [
    "#Se obtiene la moda para poder sustituir los valores atípicos\n",
    "st.mode(df.minimum_nights)"
   ]
  },
  {
   "cell_type": "code",
   "execution_count": 88,
   "metadata": {},
   "outputs": [],
   "source": [
    "#Se sustituyen los valores atípicos\n",
    "df[\"minimum_nights\"] = np.where(((df[\"minimum_nights\"]>limite_superior_iqr_8)|(df[\"minimum_nights\"]<limite_inferior_iqr_8)),1,df['minimum_nights'])"
   ]
  },
  {
   "cell_type": "code",
   "execution_count": 89,
   "metadata": {},
   "outputs": [
    {
     "data": {
      "text/html": [
       "<div>\n",
       "<style scoped>\n",
       "    .dataframe tbody tr th:only-of-type {\n",
       "        vertical-align: middle;\n",
       "    }\n",
       "\n",
       "    .dataframe tbody tr th {\n",
       "        vertical-align: top;\n",
       "    }\n",
       "\n",
       "    .dataframe thead th {\n",
       "        text-align: right;\n",
       "    }\n",
       "</style>\n",
       "<table border=\"1\" class=\"dataframe\">\n",
       "  <thead>\n",
       "    <tr style=\"text-align: right;\">\n",
       "      <th></th>\n",
       "      <th>id</th>\n",
       "      <th>host_id</th>\n",
       "      <th>host_location</th>\n",
       "      <th>host_response_time</th>\n",
       "      <th>host_response_rate</th>\n",
       "      <th>host_acceptance_rate</th>\n",
       "      <th>host_is_superhost</th>\n",
       "      <th>host_neighbourhood</th>\n",
       "      <th>host_verifications</th>\n",
       "      <th>host_has_profile_pic</th>\n",
       "      <th>...</th>\n",
       "      <th>review_scores_rating</th>\n",
       "      <th>review_scores_accuracy</th>\n",
       "      <th>review_scores_cleanliness</th>\n",
       "      <th>review_scores_checkin</th>\n",
       "      <th>review_scores_communication</th>\n",
       "      <th>review_scores_location</th>\n",
       "      <th>review_scores_value</th>\n",
       "      <th>instant_bookable</th>\n",
       "      <th>calculated_host_listings_count</th>\n",
       "      <th>reviews_per_month</th>\n",
       "    </tr>\n",
       "  </thead>\n",
       "  <tbody>\n",
       "  </tbody>\n",
       "</table>\n",
       "<p>0 rows × 41 columns</p>\n",
       "</div>"
      ],
      "text/plain": [
       "Empty DataFrame\n",
       "Columns: [id, host_id, host_location, host_response_time, host_response_rate, host_acceptance_rate, host_is_superhost, host_neighbourhood, host_verifications, host_has_profile_pic, host_identity_verified, neighbourhood_cleansed, latitude, longitude, property_type, room_type, accommodates, bathrooms, bedrooms, beds, amenities, price, minimum_nights, maximum_nights, minimum_nights_avg_ntm, maximum_nights_avg_ntm, availability_30, availability_60, availability_90, availability_365, number_of_reviews_ltm, review_scores_rating, review_scores_accuracy, review_scores_cleanliness, review_scores_checkin, review_scores_communication, review_scores_location, review_scores_value, instant_bookable, calculated_host_listings_count, reviews_per_month]\n",
       "Index: []\n",
       "\n",
       "[0 rows x 41 columns]"
      ]
     },
     "execution_count": 89,
     "metadata": {},
     "output_type": "execute_result"
    }
   ],
   "source": [
    "#Comprobar que se sustituyeron los outliers\n",
    "outliers5= df[(df[\"minimum_nights\"]>limite_superior_iqr_8)|(df[\"minimum_nights\"]<limite_inferior_iqr_8)]\n",
    "outliers5"
   ]
  },
  {
   "cell_type": "code",
   "execution_count": 90,
   "metadata": {},
   "outputs": [
    {
     "data": {
      "text/plain": [
       "1125"
      ]
     },
     "execution_count": 90,
     "metadata": {},
     "output_type": "execute_result"
    }
   ],
   "source": [
    "#Se obtiene la moda para poder sustituir los valores atípicos\n",
    "st.mode(df.maximum_nights)"
   ]
  },
  {
   "cell_type": "code",
   "execution_count": 91,
   "metadata": {},
   "outputs": [],
   "source": [
    "#Se sustituyen los valores atípicos\n",
    "df[\"maximum_nights\"] = np.where(((df[\"maximum_nights\"]>limite_superior_iqr_9)|(df[\"maximum_nights\"]<limite_inferior_iqr_9)),1125,df['maximum_nights'])"
   ]
  },
  {
   "cell_type": "code",
   "execution_count": 92,
   "metadata": {},
   "outputs": [
    {
     "data": {
      "text/html": [
       "<div>\n",
       "<style scoped>\n",
       "    .dataframe tbody tr th:only-of-type {\n",
       "        vertical-align: middle;\n",
       "    }\n",
       "\n",
       "    .dataframe tbody tr th {\n",
       "        vertical-align: top;\n",
       "    }\n",
       "\n",
       "    .dataframe thead th {\n",
       "        text-align: right;\n",
       "    }\n",
       "</style>\n",
       "<table border=\"1\" class=\"dataframe\">\n",
       "  <thead>\n",
       "    <tr style=\"text-align: right;\">\n",
       "      <th></th>\n",
       "      <th>id</th>\n",
       "      <th>host_id</th>\n",
       "      <th>host_location</th>\n",
       "      <th>host_response_time</th>\n",
       "      <th>host_response_rate</th>\n",
       "      <th>host_acceptance_rate</th>\n",
       "      <th>host_is_superhost</th>\n",
       "      <th>host_neighbourhood</th>\n",
       "      <th>host_verifications</th>\n",
       "      <th>host_has_profile_pic</th>\n",
       "      <th>...</th>\n",
       "      <th>review_scores_rating</th>\n",
       "      <th>review_scores_accuracy</th>\n",
       "      <th>review_scores_cleanliness</th>\n",
       "      <th>review_scores_checkin</th>\n",
       "      <th>review_scores_communication</th>\n",
       "      <th>review_scores_location</th>\n",
       "      <th>review_scores_value</th>\n",
       "      <th>instant_bookable</th>\n",
       "      <th>calculated_host_listings_count</th>\n",
       "      <th>reviews_per_month</th>\n",
       "    </tr>\n",
       "  </thead>\n",
       "  <tbody>\n",
       "  </tbody>\n",
       "</table>\n",
       "<p>0 rows × 41 columns</p>\n",
       "</div>"
      ],
      "text/plain": [
       "Empty DataFrame\n",
       "Columns: [id, host_id, host_location, host_response_time, host_response_rate, host_acceptance_rate, host_is_superhost, host_neighbourhood, host_verifications, host_has_profile_pic, host_identity_verified, neighbourhood_cleansed, latitude, longitude, property_type, room_type, accommodates, bathrooms, bedrooms, beds, amenities, price, minimum_nights, maximum_nights, minimum_nights_avg_ntm, maximum_nights_avg_ntm, availability_30, availability_60, availability_90, availability_365, number_of_reviews_ltm, review_scores_rating, review_scores_accuracy, review_scores_cleanliness, review_scores_checkin, review_scores_communication, review_scores_location, review_scores_value, instant_bookable, calculated_host_listings_count, reviews_per_month]\n",
       "Index: []\n",
       "\n",
       "[0 rows x 41 columns]"
      ]
     },
     "execution_count": 92,
     "metadata": {},
     "output_type": "execute_result"
    }
   ],
   "source": [
    "#Comprobar que se sustituyeron los outliers\n",
    "outliers6= df[(df[\"maximum_nights\"]>limite_superior_iqr_9)|(df[\"maximum_nights\"]<limite_inferior_iqr_9)]\n",
    "outliers6"
   ]
  },
  {
   "cell_type": "code",
   "execution_count": 93,
   "metadata": {},
   "outputs": [
    {
     "data": {
      "text/plain": [
       "1.0"
      ]
     },
     "execution_count": 93,
     "metadata": {},
     "output_type": "execute_result"
    }
   ],
   "source": [
    "#Se obtiene la moda para poder sustituir los valores atípicos\n",
    "st.mode(df.minimum_nights_avg_ntm)"
   ]
  },
  {
   "cell_type": "code",
   "execution_count": 94,
   "metadata": {},
   "outputs": [],
   "source": [
    "#Se sustituyen los valores atípicos\n",
    "df[\"minimum_nights_avg_ntm\"] = np.where(((df[\"minimum_nights_avg_ntm\"]>limite_superior_iqr_10)|(df[\"minimum_nights_avg_ntm\"]<limite_inferior_iqr_10)),1,df['minimum_nights_avg_ntm'])"
   ]
  },
  {
   "cell_type": "code",
   "execution_count": 95,
   "metadata": {},
   "outputs": [
    {
     "data": {
      "text/html": [
       "<div>\n",
       "<style scoped>\n",
       "    .dataframe tbody tr th:only-of-type {\n",
       "        vertical-align: middle;\n",
       "    }\n",
       "\n",
       "    .dataframe tbody tr th {\n",
       "        vertical-align: top;\n",
       "    }\n",
       "\n",
       "    .dataframe thead th {\n",
       "        text-align: right;\n",
       "    }\n",
       "</style>\n",
       "<table border=\"1\" class=\"dataframe\">\n",
       "  <thead>\n",
       "    <tr style=\"text-align: right;\">\n",
       "      <th></th>\n",
       "      <th>id</th>\n",
       "      <th>host_id</th>\n",
       "      <th>host_location</th>\n",
       "      <th>host_response_time</th>\n",
       "      <th>host_response_rate</th>\n",
       "      <th>host_acceptance_rate</th>\n",
       "      <th>host_is_superhost</th>\n",
       "      <th>host_neighbourhood</th>\n",
       "      <th>host_verifications</th>\n",
       "      <th>host_has_profile_pic</th>\n",
       "      <th>...</th>\n",
       "      <th>review_scores_rating</th>\n",
       "      <th>review_scores_accuracy</th>\n",
       "      <th>review_scores_cleanliness</th>\n",
       "      <th>review_scores_checkin</th>\n",
       "      <th>review_scores_communication</th>\n",
       "      <th>review_scores_location</th>\n",
       "      <th>review_scores_value</th>\n",
       "      <th>instant_bookable</th>\n",
       "      <th>calculated_host_listings_count</th>\n",
       "      <th>reviews_per_month</th>\n",
       "    </tr>\n",
       "  </thead>\n",
       "  <tbody>\n",
       "  </tbody>\n",
       "</table>\n",
       "<p>0 rows × 41 columns</p>\n",
       "</div>"
      ],
      "text/plain": [
       "Empty DataFrame\n",
       "Columns: [id, host_id, host_location, host_response_time, host_response_rate, host_acceptance_rate, host_is_superhost, host_neighbourhood, host_verifications, host_has_profile_pic, host_identity_verified, neighbourhood_cleansed, latitude, longitude, property_type, room_type, accommodates, bathrooms, bedrooms, beds, amenities, price, minimum_nights, maximum_nights, minimum_nights_avg_ntm, maximum_nights_avg_ntm, availability_30, availability_60, availability_90, availability_365, number_of_reviews_ltm, review_scores_rating, review_scores_accuracy, review_scores_cleanliness, review_scores_checkin, review_scores_communication, review_scores_location, review_scores_value, instant_bookable, calculated_host_listings_count, reviews_per_month]\n",
       "Index: []\n",
       "\n",
       "[0 rows x 41 columns]"
      ]
     },
     "execution_count": 95,
     "metadata": {},
     "output_type": "execute_result"
    }
   ],
   "source": [
    "#Comprobar que se sustituyeron los outliers\n",
    "outliers7= df[(df[\"minimum_nights_avg_ntm\"]>limite_superior_iqr_10)|(df[\"minimum_nights_avg_ntm\"]<limite_inferior_iqr_10)]\n",
    "outliers7"
   ]
  },
  {
   "cell_type": "code",
   "execution_count": 96,
   "metadata": {},
   "outputs": [
    {
     "data": {
      "text/plain": [
       "1125.0"
      ]
     },
     "execution_count": 96,
     "metadata": {},
     "output_type": "execute_result"
    }
   ],
   "source": [
    "#Se obtiene la moda para poder sustituir los valores atípicos\n",
    "st.mode(df.maximum_nights_avg_ntm)"
   ]
  },
  {
   "cell_type": "code",
   "execution_count": 97,
   "metadata": {},
   "outputs": [],
   "source": [
    "#Se sustituyen los valores atípicos\n",
    "df[\"maximum_nights_avg_ntm\"] = np.where(((df[\"maximum_nights_avg_ntm\"]>limite_superior_iqr_11)|(df[\"maximum_nights_avg_ntm\"]<limite_inferior_iqr_11)),1125,df['maximum_nights_avg_ntm'])"
   ]
  },
  {
   "cell_type": "code",
   "execution_count": 98,
   "metadata": {},
   "outputs": [
    {
     "data": {
      "text/html": [
       "<div>\n",
       "<style scoped>\n",
       "    .dataframe tbody tr th:only-of-type {\n",
       "        vertical-align: middle;\n",
       "    }\n",
       "\n",
       "    .dataframe tbody tr th {\n",
       "        vertical-align: top;\n",
       "    }\n",
       "\n",
       "    .dataframe thead th {\n",
       "        text-align: right;\n",
       "    }\n",
       "</style>\n",
       "<table border=\"1\" class=\"dataframe\">\n",
       "  <thead>\n",
       "    <tr style=\"text-align: right;\">\n",
       "      <th></th>\n",
       "      <th>id</th>\n",
       "      <th>host_id</th>\n",
       "      <th>host_location</th>\n",
       "      <th>host_response_time</th>\n",
       "      <th>host_response_rate</th>\n",
       "      <th>host_acceptance_rate</th>\n",
       "      <th>host_is_superhost</th>\n",
       "      <th>host_neighbourhood</th>\n",
       "      <th>host_verifications</th>\n",
       "      <th>host_has_profile_pic</th>\n",
       "      <th>...</th>\n",
       "      <th>review_scores_rating</th>\n",
       "      <th>review_scores_accuracy</th>\n",
       "      <th>review_scores_cleanliness</th>\n",
       "      <th>review_scores_checkin</th>\n",
       "      <th>review_scores_communication</th>\n",
       "      <th>review_scores_location</th>\n",
       "      <th>review_scores_value</th>\n",
       "      <th>instant_bookable</th>\n",
       "      <th>calculated_host_listings_count</th>\n",
       "      <th>reviews_per_month</th>\n",
       "    </tr>\n",
       "  </thead>\n",
       "  <tbody>\n",
       "  </tbody>\n",
       "</table>\n",
       "<p>0 rows × 41 columns</p>\n",
       "</div>"
      ],
      "text/plain": [
       "Empty DataFrame\n",
       "Columns: [id, host_id, host_location, host_response_time, host_response_rate, host_acceptance_rate, host_is_superhost, host_neighbourhood, host_verifications, host_has_profile_pic, host_identity_verified, neighbourhood_cleansed, latitude, longitude, property_type, room_type, accommodates, bathrooms, bedrooms, beds, amenities, price, minimum_nights, maximum_nights, minimum_nights_avg_ntm, maximum_nights_avg_ntm, availability_30, availability_60, availability_90, availability_365, number_of_reviews_ltm, review_scores_rating, review_scores_accuracy, review_scores_cleanliness, review_scores_checkin, review_scores_communication, review_scores_location, review_scores_value, instant_bookable, calculated_host_listings_count, reviews_per_month]\n",
       "Index: []\n",
       "\n",
       "[0 rows x 41 columns]"
      ]
     },
     "execution_count": 98,
     "metadata": {},
     "output_type": "execute_result"
    }
   ],
   "source": [
    "#Comprobar que se sustituyeron los outliers\n",
    "outliers8= df[(df[\"maximum_nights_avg_ntm\"]>limite_superior_iqr_11)|(df[\"maximum_nights_avg_ntm\"]<limite_inferior_iqr_11)]\n",
    "outliers8"
   ]
  },
  {
   "cell_type": "code",
   "execution_count": 99,
   "metadata": {},
   "outputs": [
    {
     "data": {
      "text/plain": [
       "1.0"
      ]
     },
     "execution_count": 99,
     "metadata": {},
     "output_type": "execute_result"
    }
   ],
   "source": [
    "#Se obtiene la moda para poder sustituir los valores atípicos\n",
    "st.mode(df.host_response_rate)"
   ]
  },
  {
   "cell_type": "code",
   "execution_count": 100,
   "metadata": {},
   "outputs": [],
   "source": [
    "#Se sustituyen los valores atípicos\n",
    "df[\"host_response_rate\"] = np.where(((df[\"host_response_rate\"]>limite_superior_iqr_1)|(df[\"host_response_rate\"]<limite_inferior_iqr_1)),1,df['host_response_rate'])"
   ]
  },
  {
   "cell_type": "code",
   "execution_count": 101,
   "metadata": {},
   "outputs": [
    {
     "data": {
      "text/html": [
       "<div>\n",
       "<style scoped>\n",
       "    .dataframe tbody tr th:only-of-type {\n",
       "        vertical-align: middle;\n",
       "    }\n",
       "\n",
       "    .dataframe tbody tr th {\n",
       "        vertical-align: top;\n",
       "    }\n",
       "\n",
       "    .dataframe thead th {\n",
       "        text-align: right;\n",
       "    }\n",
       "</style>\n",
       "<table border=\"1\" class=\"dataframe\">\n",
       "  <thead>\n",
       "    <tr style=\"text-align: right;\">\n",
       "      <th></th>\n",
       "      <th>id</th>\n",
       "      <th>host_id</th>\n",
       "      <th>host_location</th>\n",
       "      <th>host_response_time</th>\n",
       "      <th>host_response_rate</th>\n",
       "      <th>host_acceptance_rate</th>\n",
       "      <th>host_is_superhost</th>\n",
       "      <th>host_neighbourhood</th>\n",
       "      <th>host_verifications</th>\n",
       "      <th>host_has_profile_pic</th>\n",
       "      <th>...</th>\n",
       "      <th>review_scores_rating</th>\n",
       "      <th>review_scores_accuracy</th>\n",
       "      <th>review_scores_cleanliness</th>\n",
       "      <th>review_scores_checkin</th>\n",
       "      <th>review_scores_communication</th>\n",
       "      <th>review_scores_location</th>\n",
       "      <th>review_scores_value</th>\n",
       "      <th>instant_bookable</th>\n",
       "      <th>calculated_host_listings_count</th>\n",
       "      <th>reviews_per_month</th>\n",
       "    </tr>\n",
       "  </thead>\n",
       "  <tbody>\n",
       "  </tbody>\n",
       "</table>\n",
       "<p>0 rows × 41 columns</p>\n",
       "</div>"
      ],
      "text/plain": [
       "Empty DataFrame\n",
       "Columns: [id, host_id, host_location, host_response_time, host_response_rate, host_acceptance_rate, host_is_superhost, host_neighbourhood, host_verifications, host_has_profile_pic, host_identity_verified, neighbourhood_cleansed, latitude, longitude, property_type, room_type, accommodates, bathrooms, bedrooms, beds, amenities, price, minimum_nights, maximum_nights, minimum_nights_avg_ntm, maximum_nights_avg_ntm, availability_30, availability_60, availability_90, availability_365, number_of_reviews_ltm, review_scores_rating, review_scores_accuracy, review_scores_cleanliness, review_scores_checkin, review_scores_communication, review_scores_location, review_scores_value, instant_bookable, calculated_host_listings_count, reviews_per_month]\n",
       "Index: []\n",
       "\n",
       "[0 rows x 41 columns]"
      ]
     },
     "execution_count": 101,
     "metadata": {},
     "output_type": "execute_result"
    }
   ],
   "source": [
    "#Comprobar que se sustituyeron los outliers\n",
    "outliers9= df[(df[\"host_response_rate\"]>limite_superior_iqr_1)|(df[\"host_response_rate\"]<limite_inferior_iqr_1)]\n",
    "outliers9"
   ]
  },
  {
   "cell_type": "code",
   "execution_count": 102,
   "metadata": {},
   "outputs": [
    {
     "data": {
      "text/plain": [
       "1.0"
      ]
     },
     "execution_count": 102,
     "metadata": {},
     "output_type": "execute_result"
    }
   ],
   "source": [
    "#Se obtiene la moda para poder sustituir los valores atípicos\n",
    "st.mode(df.host_acceptance_rate)"
   ]
  },
  {
   "cell_type": "code",
   "execution_count": 103,
   "metadata": {},
   "outputs": [],
   "source": [
    "#Se sustituyen los valores atípicos\n",
    "df[\"host_acceptance_rate\"] = np.where(((df[\"host_acceptance_rate\"]>limite_superior_iqr_2)|(df[\"host_acceptance_rate\"]<limite_inferior_iqr_2)),1,df['host_acceptance_rate'])"
   ]
  },
  {
   "cell_type": "code",
   "execution_count": 104,
   "metadata": {},
   "outputs": [
    {
     "data": {
      "text/html": [
       "<div>\n",
       "<style scoped>\n",
       "    .dataframe tbody tr th:only-of-type {\n",
       "        vertical-align: middle;\n",
       "    }\n",
       "\n",
       "    .dataframe tbody tr th {\n",
       "        vertical-align: top;\n",
       "    }\n",
       "\n",
       "    .dataframe thead th {\n",
       "        text-align: right;\n",
       "    }\n",
       "</style>\n",
       "<table border=\"1\" class=\"dataframe\">\n",
       "  <thead>\n",
       "    <tr style=\"text-align: right;\">\n",
       "      <th></th>\n",
       "      <th>id</th>\n",
       "      <th>host_id</th>\n",
       "      <th>host_location</th>\n",
       "      <th>host_response_time</th>\n",
       "      <th>host_response_rate</th>\n",
       "      <th>host_acceptance_rate</th>\n",
       "      <th>host_is_superhost</th>\n",
       "      <th>host_neighbourhood</th>\n",
       "      <th>host_verifications</th>\n",
       "      <th>host_has_profile_pic</th>\n",
       "      <th>...</th>\n",
       "      <th>review_scores_rating</th>\n",
       "      <th>review_scores_accuracy</th>\n",
       "      <th>review_scores_cleanliness</th>\n",
       "      <th>review_scores_checkin</th>\n",
       "      <th>review_scores_communication</th>\n",
       "      <th>review_scores_location</th>\n",
       "      <th>review_scores_value</th>\n",
       "      <th>instant_bookable</th>\n",
       "      <th>calculated_host_listings_count</th>\n",
       "      <th>reviews_per_month</th>\n",
       "    </tr>\n",
       "  </thead>\n",
       "  <tbody>\n",
       "  </tbody>\n",
       "</table>\n",
       "<p>0 rows × 41 columns</p>\n",
       "</div>"
      ],
      "text/plain": [
       "Empty DataFrame\n",
       "Columns: [id, host_id, host_location, host_response_time, host_response_rate, host_acceptance_rate, host_is_superhost, host_neighbourhood, host_verifications, host_has_profile_pic, host_identity_verified, neighbourhood_cleansed, latitude, longitude, property_type, room_type, accommodates, bathrooms, bedrooms, beds, amenities, price, minimum_nights, maximum_nights, minimum_nights_avg_ntm, maximum_nights_avg_ntm, availability_30, availability_60, availability_90, availability_365, number_of_reviews_ltm, review_scores_rating, review_scores_accuracy, review_scores_cleanliness, review_scores_checkin, review_scores_communication, review_scores_location, review_scores_value, instant_bookable, calculated_host_listings_count, reviews_per_month]\n",
       "Index: []\n",
       "\n",
       "[0 rows x 41 columns]"
      ]
     },
     "execution_count": 104,
     "metadata": {},
     "output_type": "execute_result"
    }
   ],
   "source": [
    "#Comprobar que se sustituyeron los outliers\n",
    "outliers10= df[(df[\"host_acceptance_rate\"]>limite_superior_iqr_2)|(df[\"host_acceptance_rate\"]<limite_inferior_iqr_2)]\n",
    "outliers10"
   ]
  },
  {
   "cell_type": "code",
   "execution_count": 105,
   "metadata": {},
   "outputs": [
    {
     "data": {
      "text/plain": [
       "2.7011504270524664"
      ]
     },
     "execution_count": 105,
     "metadata": {},
     "output_type": "execute_result"
    }
   ],
   "source": [
    "#Se obtiene la media recortada con límites de 0.25 para poder sustituir los valores atípicos\n",
    "stats.trim_mean(df.accommodates, 0.25)"
   ]
  },
  {
   "cell_type": "code",
   "execution_count": 106,
   "metadata": {},
   "outputs": [],
   "source": [
    "#Se sustituyen los valores atípicos\n",
    "df[\"accommodates\"] = np.where(((df[\"accommodates\"]>limite_superior_iqr_3)|(df[\"accommodates\"]<limite_inferior_iqr_3)),3,df['accommodates'])"
   ]
  },
  {
   "cell_type": "code",
   "execution_count": 107,
   "metadata": {},
   "outputs": [
    {
     "data": {
      "text/html": [
       "<div>\n",
       "<style scoped>\n",
       "    .dataframe tbody tr th:only-of-type {\n",
       "        vertical-align: middle;\n",
       "    }\n",
       "\n",
       "    .dataframe tbody tr th {\n",
       "        vertical-align: top;\n",
       "    }\n",
       "\n",
       "    .dataframe thead th {\n",
       "        text-align: right;\n",
       "    }\n",
       "</style>\n",
       "<table border=\"1\" class=\"dataframe\">\n",
       "  <thead>\n",
       "    <tr style=\"text-align: right;\">\n",
       "      <th></th>\n",
       "      <th>id</th>\n",
       "      <th>host_id</th>\n",
       "      <th>host_location</th>\n",
       "      <th>host_response_time</th>\n",
       "      <th>host_response_rate</th>\n",
       "      <th>host_acceptance_rate</th>\n",
       "      <th>host_is_superhost</th>\n",
       "      <th>host_neighbourhood</th>\n",
       "      <th>host_verifications</th>\n",
       "      <th>host_has_profile_pic</th>\n",
       "      <th>...</th>\n",
       "      <th>review_scores_rating</th>\n",
       "      <th>review_scores_accuracy</th>\n",
       "      <th>review_scores_cleanliness</th>\n",
       "      <th>review_scores_checkin</th>\n",
       "      <th>review_scores_communication</th>\n",
       "      <th>review_scores_location</th>\n",
       "      <th>review_scores_value</th>\n",
       "      <th>instant_bookable</th>\n",
       "      <th>calculated_host_listings_count</th>\n",
       "      <th>reviews_per_month</th>\n",
       "    </tr>\n",
       "  </thead>\n",
       "  <tbody>\n",
       "  </tbody>\n",
       "</table>\n",
       "<p>0 rows × 41 columns</p>\n",
       "</div>"
      ],
      "text/plain": [
       "Empty DataFrame\n",
       "Columns: [id, host_id, host_location, host_response_time, host_response_rate, host_acceptance_rate, host_is_superhost, host_neighbourhood, host_verifications, host_has_profile_pic, host_identity_verified, neighbourhood_cleansed, latitude, longitude, property_type, room_type, accommodates, bathrooms, bedrooms, beds, amenities, price, minimum_nights, maximum_nights, minimum_nights_avg_ntm, maximum_nights_avg_ntm, availability_30, availability_60, availability_90, availability_365, number_of_reviews_ltm, review_scores_rating, review_scores_accuracy, review_scores_cleanliness, review_scores_checkin, review_scores_communication, review_scores_location, review_scores_value, instant_bookable, calculated_host_listings_count, reviews_per_month]\n",
       "Index: []\n",
       "\n",
       "[0 rows x 41 columns]"
      ]
     },
     "execution_count": 107,
     "metadata": {},
     "output_type": "execute_result"
    }
   ],
   "source": [
    "#Comprobar que se sustituyeron los outliers\n",
    "outliers11= df[(df[\"accommodates\"]>limite_superior_iqr_3)|(df[\"accommodates\"]<limite_inferior_iqr_3)]\n",
    "outliers11"
   ]
  },
  {
   "cell_type": "code",
   "execution_count": 108,
   "metadata": {},
   "outputs": [
    {
     "data": {
      "text/plain": [
       "5.311312532682587"
      ]
     },
     "execution_count": 108,
     "metadata": {},
     "output_type": "execute_result"
    }
   ],
   "source": [
    "#Se obtiene la media recortada con límites de 0.25 para poder sustituir los valores atípicos\n",
    "stats.trim_mean(df.number_of_reviews_ltm, 0.25)"
   ]
  },
  {
   "cell_type": "code",
   "execution_count": 109,
   "metadata": {},
   "outputs": [],
   "source": [
    "#Se sustituyen los valores atípicos\n",
    "df[\"number_of_reviews_ltm\"] = np.where(((df[\"number_of_reviews_ltm\"]>limite_superior_iqr_12)|(df[\"number_of_reviews_ltm\"]<limite_inferior_iqr_12)),5,df['number_of_reviews_ltm'])"
   ]
  },
  {
   "cell_type": "code",
   "execution_count": 110,
   "metadata": {},
   "outputs": [
    {
     "data": {
      "text/html": [
       "<div>\n",
       "<style scoped>\n",
       "    .dataframe tbody tr th:only-of-type {\n",
       "        vertical-align: middle;\n",
       "    }\n",
       "\n",
       "    .dataframe tbody tr th {\n",
       "        vertical-align: top;\n",
       "    }\n",
       "\n",
       "    .dataframe thead th {\n",
       "        text-align: right;\n",
       "    }\n",
       "</style>\n",
       "<table border=\"1\" class=\"dataframe\">\n",
       "  <thead>\n",
       "    <tr style=\"text-align: right;\">\n",
       "      <th></th>\n",
       "      <th>id</th>\n",
       "      <th>host_id</th>\n",
       "      <th>host_location</th>\n",
       "      <th>host_response_time</th>\n",
       "      <th>host_response_rate</th>\n",
       "      <th>host_acceptance_rate</th>\n",
       "      <th>host_is_superhost</th>\n",
       "      <th>host_neighbourhood</th>\n",
       "      <th>host_verifications</th>\n",
       "      <th>host_has_profile_pic</th>\n",
       "      <th>...</th>\n",
       "      <th>review_scores_rating</th>\n",
       "      <th>review_scores_accuracy</th>\n",
       "      <th>review_scores_cleanliness</th>\n",
       "      <th>review_scores_checkin</th>\n",
       "      <th>review_scores_communication</th>\n",
       "      <th>review_scores_location</th>\n",
       "      <th>review_scores_value</th>\n",
       "      <th>instant_bookable</th>\n",
       "      <th>calculated_host_listings_count</th>\n",
       "      <th>reviews_per_month</th>\n",
       "    </tr>\n",
       "  </thead>\n",
       "  <tbody>\n",
       "  </tbody>\n",
       "</table>\n",
       "<p>0 rows × 41 columns</p>\n",
       "</div>"
      ],
      "text/plain": [
       "Empty DataFrame\n",
       "Columns: [id, host_id, host_location, host_response_time, host_response_rate, host_acceptance_rate, host_is_superhost, host_neighbourhood, host_verifications, host_has_profile_pic, host_identity_verified, neighbourhood_cleansed, latitude, longitude, property_type, room_type, accommodates, bathrooms, bedrooms, beds, amenities, price, minimum_nights, maximum_nights, minimum_nights_avg_ntm, maximum_nights_avg_ntm, availability_30, availability_60, availability_90, availability_365, number_of_reviews_ltm, review_scores_rating, review_scores_accuracy, review_scores_cleanliness, review_scores_checkin, review_scores_communication, review_scores_location, review_scores_value, instant_bookable, calculated_host_listings_count, reviews_per_month]\n",
       "Index: []\n",
       "\n",
       "[0 rows x 41 columns]"
      ]
     },
     "execution_count": 110,
     "metadata": {},
     "output_type": "execute_result"
    }
   ],
   "source": [
    "#Comprobar que se sustituyeron los outliers\n",
    "outliers12= df[(df[\"number_of_reviews_ltm\"]>limite_superior_iqr_12)|(df[\"number_of_reviews_ltm\"]<limite_inferior_iqr_12)]\n",
    "outliers12"
   ]
  },
  {
   "cell_type": "code",
   "execution_count": 111,
   "metadata": {},
   "outputs": [
    {
     "data": {
      "text/plain": [
       "3.1411016210563014"
      ]
     },
     "execution_count": 111,
     "metadata": {},
     "output_type": "execute_result"
    }
   ],
   "source": [
    "#Se obtiene la media recortada con límites de 0.25 para poder sustituir los valores atípicos\n",
    "stats.trim_mean(df.calculated_host_listings_count, 0.25)"
   ]
  },
  {
   "cell_type": "code",
   "execution_count": 112,
   "metadata": {},
   "outputs": [],
   "source": [
    "#Se sustituyen los valores atípicos\n",
    "df[\"calculated_host_listings_count\"] = np.where(((df[\"calculated_host_listings_count\"]>limite_superior_iqr_13)|(df[\"calculated_host_listings_count\"]<limite_inferior_iqr_13)),3,df['calculated_host_listings_count'])"
   ]
  },
  {
   "cell_type": "code",
   "execution_count": 113,
   "metadata": {},
   "outputs": [
    {
     "data": {
      "text/html": [
       "<div>\n",
       "<style scoped>\n",
       "    .dataframe tbody tr th:only-of-type {\n",
       "        vertical-align: middle;\n",
       "    }\n",
       "\n",
       "    .dataframe tbody tr th {\n",
       "        vertical-align: top;\n",
       "    }\n",
       "\n",
       "    .dataframe thead th {\n",
       "        text-align: right;\n",
       "    }\n",
       "</style>\n",
       "<table border=\"1\" class=\"dataframe\">\n",
       "  <thead>\n",
       "    <tr style=\"text-align: right;\">\n",
       "      <th></th>\n",
       "      <th>id</th>\n",
       "      <th>host_id</th>\n",
       "      <th>host_location</th>\n",
       "      <th>host_response_time</th>\n",
       "      <th>host_response_rate</th>\n",
       "      <th>host_acceptance_rate</th>\n",
       "      <th>host_is_superhost</th>\n",
       "      <th>host_neighbourhood</th>\n",
       "      <th>host_verifications</th>\n",
       "      <th>host_has_profile_pic</th>\n",
       "      <th>...</th>\n",
       "      <th>review_scores_rating</th>\n",
       "      <th>review_scores_accuracy</th>\n",
       "      <th>review_scores_cleanliness</th>\n",
       "      <th>review_scores_checkin</th>\n",
       "      <th>review_scores_communication</th>\n",
       "      <th>review_scores_location</th>\n",
       "      <th>review_scores_value</th>\n",
       "      <th>instant_bookable</th>\n",
       "      <th>calculated_host_listings_count</th>\n",
       "      <th>reviews_per_month</th>\n",
       "    </tr>\n",
       "  </thead>\n",
       "  <tbody>\n",
       "  </tbody>\n",
       "</table>\n",
       "<p>0 rows × 41 columns</p>\n",
       "</div>"
      ],
      "text/plain": [
       "Empty DataFrame\n",
       "Columns: [id, host_id, host_location, host_response_time, host_response_rate, host_acceptance_rate, host_is_superhost, host_neighbourhood, host_verifications, host_has_profile_pic, host_identity_verified, neighbourhood_cleansed, latitude, longitude, property_type, room_type, accommodates, bathrooms, bedrooms, beds, amenities, price, minimum_nights, maximum_nights, minimum_nights_avg_ntm, maximum_nights_avg_ntm, availability_30, availability_60, availability_90, availability_365, number_of_reviews_ltm, review_scores_rating, review_scores_accuracy, review_scores_cleanliness, review_scores_checkin, review_scores_communication, review_scores_location, review_scores_value, instant_bookable, calculated_host_listings_count, reviews_per_month]\n",
       "Index: []\n",
       "\n",
       "[0 rows x 41 columns]"
      ]
     },
     "execution_count": 113,
     "metadata": {},
     "output_type": "execute_result"
    }
   ],
   "source": [
    "#Comprobar que se sustituyeron los outliers\n",
    "outliers13= df[(df[\"calculated_host_listings_count\"]>limite_superior_iqr_13)|(df[\"calculated_host_listings_count\"]<limite_inferior_iqr_13)]\n",
    "outliers13"
   ]
  },
  {
   "cell_type": "code",
   "execution_count": 114,
   "metadata": {},
   "outputs": [],
   "source": [
    "#Convertir base de datos limpia a csv\n",
    "df.to_csv(\"datosfinalesmx.csv\")"
   ]
  },
  {
   "cell_type": "code",
   "execution_count": 115,
   "metadata": {},
   "outputs": [],
   "source": [
    "import seaborn as sns"
   ]
  },
  {
   "cell_type": "code",
   "execution_count": 116,
   "metadata": {},
   "outputs": [
    {
     "data": {
      "text/html": [
       "<div>\n",
       "<style scoped>\n",
       "    .dataframe tbody tr th:only-of-type {\n",
       "        vertical-align: middle;\n",
       "    }\n",
       "\n",
       "    .dataframe tbody tr th {\n",
       "        vertical-align: top;\n",
       "    }\n",
       "\n",
       "    .dataframe thead th {\n",
       "        text-align: right;\n",
       "    }\n",
       "</style>\n",
       "<table border=\"1\" class=\"dataframe\">\n",
       "  <thead>\n",
       "    <tr style=\"text-align: right;\">\n",
       "      <th></th>\n",
       "      <th>host_response_rate</th>\n",
       "      <th>host_acceptance_rate</th>\n",
       "      <th>accommodates</th>\n",
       "      <th>bathrooms</th>\n",
       "      <th>bedrooms</th>\n",
       "      <th>beds</th>\n",
       "      <th>minimum_nights</th>\n",
       "      <th>maximum_nights</th>\n",
       "      <th>minimum_nights_avg_ntm</th>\n",
       "      <th>maximum_nights_avg_ntm</th>\n",
       "      <th>...</th>\n",
       "      <th>number_of_reviews_ltm</th>\n",
       "      <th>review_scores_rating</th>\n",
       "      <th>review_scores_accuracy</th>\n",
       "      <th>review_scores_cleanliness</th>\n",
       "      <th>review_scores_checkin</th>\n",
       "      <th>review_scores_communication</th>\n",
       "      <th>review_scores_location</th>\n",
       "      <th>review_scores_value</th>\n",
       "      <th>calculated_host_listings_count</th>\n",
       "      <th>reviews_per_month</th>\n",
       "    </tr>\n",
       "  </thead>\n",
       "  <tbody>\n",
       "    <tr>\n",
       "      <th>0</th>\n",
       "      <td>1.0</td>\n",
       "      <td>0.80</td>\n",
       "      <td>2</td>\n",
       "      <td>1.0</td>\n",
       "      <td>1.0</td>\n",
       "      <td>1.0</td>\n",
       "      <td>1</td>\n",
       "      <td>7</td>\n",
       "      <td>1.0</td>\n",
       "      <td>7.0</td>\n",
       "      <td>...</td>\n",
       "      <td>0</td>\n",
       "      <td>4.85</td>\n",
       "      <td>4.91</td>\n",
       "      <td>4.88</td>\n",
       "      <td>4.94</td>\n",
       "      <td>4.94</td>\n",
       "      <td>4.95</td>\n",
       "      <td>4.83</td>\n",
       "      <td>1</td>\n",
       "      <td>0.00</td>\n",
       "    </tr>\n",
       "    <tr>\n",
       "      <th>1</th>\n",
       "      <td>1.0</td>\n",
       "      <td>1.00</td>\n",
       "      <td>4</td>\n",
       "      <td>2.5</td>\n",
       "      <td>2.0</td>\n",
       "      <td>1.0</td>\n",
       "      <td>2</td>\n",
       "      <td>365</td>\n",
       "      <td>2.0</td>\n",
       "      <td>365.0</td>\n",
       "      <td>...</td>\n",
       "      <td>0</td>\n",
       "      <td>4.96</td>\n",
       "      <td>4.93</td>\n",
       "      <td>4.93</td>\n",
       "      <td>4.93</td>\n",
       "      <td>4.93</td>\n",
       "      <td>4.70</td>\n",
       "      <td>4.85</td>\n",
       "      <td>2</td>\n",
       "      <td>0.26</td>\n",
       "    </tr>\n",
       "    <tr>\n",
       "      <th>2</th>\n",
       "      <td>0.8</td>\n",
       "      <td>0.67</td>\n",
       "      <td>2</td>\n",
       "      <td>1.0</td>\n",
       "      <td>1.0</td>\n",
       "      <td>1.0</td>\n",
       "      <td>3</td>\n",
       "      <td>120</td>\n",
       "      <td>3.0</td>\n",
       "      <td>120.0</td>\n",
       "      <td>...</td>\n",
       "      <td>3</td>\n",
       "      <td>4.73</td>\n",
       "      <td>4.70</td>\n",
       "      <td>4.70</td>\n",
       "      <td>4.84</td>\n",
       "      <td>4.91</td>\n",
       "      <td>4.96</td>\n",
       "      <td>4.71</td>\n",
       "      <td>1</td>\n",
       "      <td>1.52</td>\n",
       "    </tr>\n",
       "    <tr>\n",
       "      <th>3</th>\n",
       "      <td>1.0</td>\n",
       "      <td>0.79</td>\n",
       "      <td>3</td>\n",
       "      <td>1.0</td>\n",
       "      <td>1.0</td>\n",
       "      <td>1.0</td>\n",
       "      <td>1</td>\n",
       "      <td>365</td>\n",
       "      <td>1.0</td>\n",
       "      <td>365.0</td>\n",
       "      <td>...</td>\n",
       "      <td>8</td>\n",
       "      <td>4.59</td>\n",
       "      <td>4.57</td>\n",
       "      <td>4.70</td>\n",
       "      <td>4.86</td>\n",
       "      <td>4.75</td>\n",
       "      <td>4.98</td>\n",
       "      <td>4.47</td>\n",
       "      <td>12</td>\n",
       "      <td>0.44</td>\n",
       "    </tr>\n",
       "    <tr>\n",
       "      <th>4</th>\n",
       "      <td>1.0</td>\n",
       "      <td>1.00</td>\n",
       "      <td>4</td>\n",
       "      <td>1.0</td>\n",
       "      <td>2.0</td>\n",
       "      <td>2.0</td>\n",
       "      <td>2</td>\n",
       "      <td>90</td>\n",
       "      <td>2.0</td>\n",
       "      <td>90.0</td>\n",
       "      <td>...</td>\n",
       "      <td>1</td>\n",
       "      <td>4.85</td>\n",
       "      <td>4.95</td>\n",
       "      <td>4.80</td>\n",
       "      <td>4.90</td>\n",
       "      <td>4.95</td>\n",
       "      <td>4.63</td>\n",
       "      <td>4.78</td>\n",
       "      <td>1</td>\n",
       "      <td>0.51</td>\n",
       "    </tr>\n",
       "    <tr>\n",
       "      <th>...</th>\n",
       "      <td>...</td>\n",
       "      <td>...</td>\n",
       "      <td>...</td>\n",
       "      <td>...</td>\n",
       "      <td>...</td>\n",
       "      <td>...</td>\n",
       "      <td>...</td>\n",
       "      <td>...</td>\n",
       "      <td>...</td>\n",
       "      <td>...</td>\n",
       "      <td>...</td>\n",
       "      <td>...</td>\n",
       "      <td>...</td>\n",
       "      <td>...</td>\n",
       "      <td>...</td>\n",
       "      <td>...</td>\n",
       "      <td>...</td>\n",
       "      <td>...</td>\n",
       "      <td>...</td>\n",
       "      <td>...</td>\n",
       "      <td>...</td>\n",
       "    </tr>\n",
       "    <tr>\n",
       "      <th>22943</th>\n",
       "      <td>0.8</td>\n",
       "      <td>0.80</td>\n",
       "      <td>2</td>\n",
       "      <td>1.0</td>\n",
       "      <td>1.0</td>\n",
       "      <td>1.0</td>\n",
       "      <td>1</td>\n",
       "      <td>365</td>\n",
       "      <td>1.0</td>\n",
       "      <td>365.0</td>\n",
       "      <td>...</td>\n",
       "      <td>0</td>\n",
       "      <td>4.85</td>\n",
       "      <td>4.91</td>\n",
       "      <td>4.88</td>\n",
       "      <td>4.94</td>\n",
       "      <td>4.94</td>\n",
       "      <td>4.95</td>\n",
       "      <td>4.83</td>\n",
       "      <td>1</td>\n",
       "      <td>0.00</td>\n",
       "    </tr>\n",
       "    <tr>\n",
       "      <th>22944</th>\n",
       "      <td>0.8</td>\n",
       "      <td>0.80</td>\n",
       "      <td>2</td>\n",
       "      <td>1.0</td>\n",
       "      <td>2.0</td>\n",
       "      <td>1.0</td>\n",
       "      <td>3</td>\n",
       "      <td>7</td>\n",
       "      <td>3.0</td>\n",
       "      <td>7.0</td>\n",
       "      <td>...</td>\n",
       "      <td>0</td>\n",
       "      <td>5.00</td>\n",
       "      <td>5.00</td>\n",
       "      <td>5.00</td>\n",
       "      <td>5.00</td>\n",
       "      <td>5.00</td>\n",
       "      <td>5.00</td>\n",
       "      <td>5.00</td>\n",
       "      <td>1</td>\n",
       "      <td>0.06</td>\n",
       "    </tr>\n",
       "    <tr>\n",
       "      <th>22945</th>\n",
       "      <td>1.0</td>\n",
       "      <td>1.00</td>\n",
       "      <td>3</td>\n",
       "      <td>1.0</td>\n",
       "      <td>1.0</td>\n",
       "      <td>1.0</td>\n",
       "      <td>3</td>\n",
       "      <td>1125</td>\n",
       "      <td>3.0</td>\n",
       "      <td>1125.0</td>\n",
       "      <td>...</td>\n",
       "      <td>7</td>\n",
       "      <td>4.89</td>\n",
       "      <td>4.85</td>\n",
       "      <td>4.96</td>\n",
       "      <td>4.96</td>\n",
       "      <td>4.93</td>\n",
       "      <td>4.81</td>\n",
       "      <td>4.81</td>\n",
       "      <td>1</td>\n",
       "      <td>0.27</td>\n",
       "    </tr>\n",
       "    <tr>\n",
       "      <th>22946</th>\n",
       "      <td>1.0</td>\n",
       "      <td>0.99</td>\n",
       "      <td>3</td>\n",
       "      <td>1.0</td>\n",
       "      <td>1.0</td>\n",
       "      <td>1.0</td>\n",
       "      <td>1</td>\n",
       "      <td>1125</td>\n",
       "      <td>1.0</td>\n",
       "      <td>1125.0</td>\n",
       "      <td>...</td>\n",
       "      <td>28</td>\n",
       "      <td>4.44</td>\n",
       "      <td>4.54</td>\n",
       "      <td>4.64</td>\n",
       "      <td>4.61</td>\n",
       "      <td>4.29</td>\n",
       "      <td>4.82</td>\n",
       "      <td>4.47</td>\n",
       "      <td>8</td>\n",
       "      <td>2.90</td>\n",
       "    </tr>\n",
       "    <tr>\n",
       "      <th>22947</th>\n",
       "      <td>1.0</td>\n",
       "      <td>0.99</td>\n",
       "      <td>2</td>\n",
       "      <td>1.0</td>\n",
       "      <td>1.0</td>\n",
       "      <td>1.0</td>\n",
       "      <td>1</td>\n",
       "      <td>1125</td>\n",
       "      <td>1.0</td>\n",
       "      <td>1125.0</td>\n",
       "      <td>...</td>\n",
       "      <td>24</td>\n",
       "      <td>4.75</td>\n",
       "      <td>4.70</td>\n",
       "      <td>4.80</td>\n",
       "      <td>4.85</td>\n",
       "      <td>4.48</td>\n",
       "      <td>4.83</td>\n",
       "      <td>4.55</td>\n",
       "      <td>8</td>\n",
       "      <td>1.62</td>\n",
       "    </tr>\n",
       "  </tbody>\n",
       "</table>\n",
       "<p>22948 rows × 24 columns</p>\n",
       "</div>"
      ],
      "text/plain": [
       "       host_response_rate  host_acceptance_rate  accommodates  bathrooms  \\\n",
       "0                     1.0                  0.80             2        1.0   \n",
       "1                     1.0                  1.00             4        2.5   \n",
       "2                     0.8                  0.67             2        1.0   \n",
       "3                     1.0                  0.79             3        1.0   \n",
       "4                     1.0                  1.00             4        1.0   \n",
       "...                   ...                   ...           ...        ...   \n",
       "22943                 0.8                  0.80             2        1.0   \n",
       "22944                 0.8                  0.80             2        1.0   \n",
       "22945                 1.0                  1.00             3        1.0   \n",
       "22946                 1.0                  0.99             3        1.0   \n",
       "22947                 1.0                  0.99             2        1.0   \n",
       "\n",
       "       bedrooms  beds  minimum_nights  maximum_nights  minimum_nights_avg_ntm  \\\n",
       "0           1.0   1.0               1               7                     1.0   \n",
       "1           2.0   1.0               2             365                     2.0   \n",
       "2           1.0   1.0               3             120                     3.0   \n",
       "3           1.0   1.0               1             365                     1.0   \n",
       "4           2.0   2.0               2              90                     2.0   \n",
       "...         ...   ...             ...             ...                     ...   \n",
       "22943       1.0   1.0               1             365                     1.0   \n",
       "22944       2.0   1.0               3               7                     3.0   \n",
       "22945       1.0   1.0               3            1125                     3.0   \n",
       "22946       1.0   1.0               1            1125                     1.0   \n",
       "22947       1.0   1.0               1            1125                     1.0   \n",
       "\n",
       "       maximum_nights_avg_ntm  ...  number_of_reviews_ltm  \\\n",
       "0                         7.0  ...                      0   \n",
       "1                       365.0  ...                      0   \n",
       "2                       120.0  ...                      3   \n",
       "3                       365.0  ...                      8   \n",
       "4                        90.0  ...                      1   \n",
       "...                       ...  ...                    ...   \n",
       "22943                   365.0  ...                      0   \n",
       "22944                     7.0  ...                      0   \n",
       "22945                  1125.0  ...                      7   \n",
       "22946                  1125.0  ...                     28   \n",
       "22947                  1125.0  ...                     24   \n",
       "\n",
       "       review_scores_rating  review_scores_accuracy  \\\n",
       "0                      4.85                    4.91   \n",
       "1                      4.96                    4.93   \n",
       "2                      4.73                    4.70   \n",
       "3                      4.59                    4.57   \n",
       "4                      4.85                    4.95   \n",
       "...                     ...                     ...   \n",
       "22943                  4.85                    4.91   \n",
       "22944                  5.00                    5.00   \n",
       "22945                  4.89                    4.85   \n",
       "22946                  4.44                    4.54   \n",
       "22947                  4.75                    4.70   \n",
       "\n",
       "       review_scores_cleanliness  review_scores_checkin  \\\n",
       "0                           4.88                   4.94   \n",
       "1                           4.93                   4.93   \n",
       "2                           4.70                   4.84   \n",
       "3                           4.70                   4.86   \n",
       "4                           4.80                   4.90   \n",
       "...                          ...                    ...   \n",
       "22943                       4.88                   4.94   \n",
       "22944                       5.00                   5.00   \n",
       "22945                       4.96                   4.96   \n",
       "22946                       4.64                   4.61   \n",
       "22947                       4.80                   4.85   \n",
       "\n",
       "       review_scores_communication  review_scores_location  \\\n",
       "0                             4.94                    4.95   \n",
       "1                             4.93                    4.70   \n",
       "2                             4.91                    4.96   \n",
       "3                             4.75                    4.98   \n",
       "4                             4.95                    4.63   \n",
       "...                            ...                     ...   \n",
       "22943                         4.94                    4.95   \n",
       "22944                         5.00                    5.00   \n",
       "22945                         4.93                    4.81   \n",
       "22946                         4.29                    4.82   \n",
       "22947                         4.48                    4.83   \n",
       "\n",
       "       review_scores_value  calculated_host_listings_count  reviews_per_month  \n",
       "0                     4.83                               1               0.00  \n",
       "1                     4.85                               2               0.26  \n",
       "2                     4.71                               1               1.52  \n",
       "3                     4.47                              12               0.44  \n",
       "4                     4.78                               1               0.51  \n",
       "...                    ...                             ...                ...  \n",
       "22943                 4.83                               1               0.00  \n",
       "22944                 5.00                               1               0.06  \n",
       "22945                 4.81                               1               0.27  \n",
       "22946                 4.47                               8               2.90  \n",
       "22947                 4.55                               8               1.62  \n",
       "\n",
       "[22948 rows x 24 columns]"
      ]
     },
     "execution_count": 116,
     "metadata": {},
     "output_type": "execute_result"
    }
   ],
   "source": [
    "dfn= df[[\"host_response_rate\",\"host_acceptance_rate\",\"accommodates\",\"bathrooms\",\"bedrooms\",\"beds\",\"minimum_nights\",\n",
    "\"maximum_nights\",\"minimum_nights_avg_ntm\",\"maximum_nights_avg_ntm\",\"availability_30\",\"availability_60\",\"availability_90\",\n",
    "\"availability_365\",\"number_of_reviews_ltm\",\"review_scores_rating\",\"review_scores_accuracy\",\"review_scores_cleanliness\",\n",
    "\"review_scores_checkin\",\"review_scores_communication\",\"review_scores_location\",\"review_scores_value\",\"calculated_host_listings_count\",\n",
    "\"reviews_per_month\"]]\n",
    "dfn"
   ]
  },
  {
   "cell_type": "code",
   "execution_count": 117,
   "metadata": {},
   "outputs": [
    {
     "data": {
      "text/html": [
       "<div>\n",
       "<style scoped>\n",
       "    .dataframe tbody tr th:only-of-type {\n",
       "        vertical-align: middle;\n",
       "    }\n",
       "\n",
       "    .dataframe tbody tr th {\n",
       "        vertical-align: top;\n",
       "    }\n",
       "\n",
       "    .dataframe thead th {\n",
       "        text-align: right;\n",
       "    }\n",
       "</style>\n",
       "<table border=\"1\" class=\"dataframe\">\n",
       "  <thead>\n",
       "    <tr style=\"text-align: right;\">\n",
       "      <th></th>\n",
       "      <th>host_response_rate</th>\n",
       "      <th>host_acceptance_rate</th>\n",
       "      <th>accommodates</th>\n",
       "      <th>bathrooms</th>\n",
       "      <th>bedrooms</th>\n",
       "      <th>beds</th>\n",
       "      <th>minimum_nights</th>\n",
       "      <th>maximum_nights</th>\n",
       "      <th>minimum_nights_avg_ntm</th>\n",
       "      <th>maximum_nights_avg_ntm</th>\n",
       "      <th>...</th>\n",
       "      <th>number_of_reviews_ltm</th>\n",
       "      <th>review_scores_rating</th>\n",
       "      <th>review_scores_accuracy</th>\n",
       "      <th>review_scores_cleanliness</th>\n",
       "      <th>review_scores_checkin</th>\n",
       "      <th>review_scores_communication</th>\n",
       "      <th>review_scores_location</th>\n",
       "      <th>review_scores_value</th>\n",
       "      <th>calculated_host_listings_count</th>\n",
       "      <th>reviews_per_month</th>\n",
       "    </tr>\n",
       "  </thead>\n",
       "  <tbody>\n",
       "    <tr>\n",
       "      <th>host_response_rate</th>\n",
       "      <td>1.000000</td>\n",
       "      <td>0.349948</td>\n",
       "      <td>0.083338</td>\n",
       "      <td>0.028632</td>\n",
       "      <td>0.035682</td>\n",
       "      <td>0.058505</td>\n",
       "      <td>0.018164</td>\n",
       "      <td>0.027791</td>\n",
       "      <td>0.020493</td>\n",
       "      <td>0.115333</td>\n",
       "      <td>...</td>\n",
       "      <td>0.209305</td>\n",
       "      <td>0.040664</td>\n",
       "      <td>0.014709</td>\n",
       "      <td>0.021658</td>\n",
       "      <td>0.016969</td>\n",
       "      <td>0.019245</td>\n",
       "      <td>0.018707</td>\n",
       "      <td>0.017317</td>\n",
       "      <td>0.156433</td>\n",
       "      <td>0.193375</td>\n",
       "    </tr>\n",
       "    <tr>\n",
       "      <th>host_acceptance_rate</th>\n",
       "      <td>0.349948</td>\n",
       "      <td>1.000000</td>\n",
       "      <td>0.095955</td>\n",
       "      <td>0.005789</td>\n",
       "      <td>0.029477</td>\n",
       "      <td>0.049562</td>\n",
       "      <td>0.002222</td>\n",
       "      <td>0.036376</td>\n",
       "      <td>-0.022625</td>\n",
       "      <td>0.146116</td>\n",
       "      <td>...</td>\n",
       "      <td>0.218588</td>\n",
       "      <td>0.025735</td>\n",
       "      <td>-0.001966</td>\n",
       "      <td>0.009960</td>\n",
       "      <td>-0.001109</td>\n",
       "      <td>-0.005811</td>\n",
       "      <td>0.009030</td>\n",
       "      <td>-0.004724</td>\n",
       "      <td>0.157896</td>\n",
       "      <td>0.227639</td>\n",
       "    </tr>\n",
       "    <tr>\n",
       "      <th>accommodates</th>\n",
       "      <td>0.083338</td>\n",
       "      <td>0.095955</td>\n",
       "      <td>1.000000</td>\n",
       "      <td>0.422794</td>\n",
       "      <td>0.697156</td>\n",
       "      <td>0.590362</td>\n",
       "      <td>0.078032</td>\n",
       "      <td>0.064575</td>\n",
       "      <td>0.064791</td>\n",
       "      <td>0.096048</td>\n",
       "      <td>...</td>\n",
       "      <td>0.165657</td>\n",
       "      <td>0.036862</td>\n",
       "      <td>0.021810</td>\n",
       "      <td>0.022618</td>\n",
       "      <td>0.009632</td>\n",
       "      <td>0.013621</td>\n",
       "      <td>0.015165</td>\n",
       "      <td>0.025212</td>\n",
       "      <td>0.000990</td>\n",
       "      <td>0.144879</td>\n",
       "    </tr>\n",
       "    <tr>\n",
       "      <th>bathrooms</th>\n",
       "      <td>0.028632</td>\n",
       "      <td>0.005789</td>\n",
       "      <td>0.422794</td>\n",
       "      <td>1.000000</td>\n",
       "      <td>0.525756</td>\n",
       "      <td>0.279646</td>\n",
       "      <td>0.054783</td>\n",
       "      <td>-0.004547</td>\n",
       "      <td>0.075050</td>\n",
       "      <td>0.007737</td>\n",
       "      <td>...</td>\n",
       "      <td>0.043113</td>\n",
       "      <td>0.034322</td>\n",
       "      <td>0.027308</td>\n",
       "      <td>0.013680</td>\n",
       "      <td>0.010896</td>\n",
       "      <td>0.021287</td>\n",
       "      <td>0.034376</td>\n",
       "      <td>0.039051</td>\n",
       "      <td>-0.030056</td>\n",
       "      <td>0.012663</td>\n",
       "    </tr>\n",
       "    <tr>\n",
       "      <th>bedrooms</th>\n",
       "      <td>0.035682</td>\n",
       "      <td>0.029477</td>\n",
       "      <td>0.697156</td>\n",
       "      <td>0.525756</td>\n",
       "      <td>1.000000</td>\n",
       "      <td>0.528904</td>\n",
       "      <td>0.089642</td>\n",
       "      <td>0.037518</td>\n",
       "      <td>0.094211</td>\n",
       "      <td>0.055538</td>\n",
       "      <td>...</td>\n",
       "      <td>0.091462</td>\n",
       "      <td>0.025333</td>\n",
       "      <td>0.015162</td>\n",
       "      <td>0.016540</td>\n",
       "      <td>0.008287</td>\n",
       "      <td>0.012218</td>\n",
       "      <td>0.014019</td>\n",
       "      <td>0.023225</td>\n",
       "      <td>-0.067516</td>\n",
       "      <td>0.055847</td>\n",
       "    </tr>\n",
       "    <tr>\n",
       "      <th>beds</th>\n",
       "      <td>0.058505</td>\n",
       "      <td>0.049562</td>\n",
       "      <td>0.590362</td>\n",
       "      <td>0.279646</td>\n",
       "      <td>0.528904</td>\n",
       "      <td>1.000000</td>\n",
       "      <td>0.075548</td>\n",
       "      <td>0.047146</td>\n",
       "      <td>0.066274</td>\n",
       "      <td>0.068313</td>\n",
       "      <td>...</td>\n",
       "      <td>0.100034</td>\n",
       "      <td>0.029461</td>\n",
       "      <td>0.024885</td>\n",
       "      <td>0.027009</td>\n",
       "      <td>0.013621</td>\n",
       "      <td>0.022074</td>\n",
       "      <td>0.010451</td>\n",
       "      <td>0.027772</td>\n",
       "      <td>-0.047505</td>\n",
       "      <td>0.072197</td>\n",
       "    </tr>\n",
       "    <tr>\n",
       "      <th>minimum_nights</th>\n",
       "      <td>0.018164</td>\n",
       "      <td>0.002222</td>\n",
       "      <td>0.078032</td>\n",
       "      <td>0.054783</td>\n",
       "      <td>0.089642</td>\n",
       "      <td>0.075548</td>\n",
       "      <td>1.000000</td>\n",
       "      <td>0.005665</td>\n",
       "      <td>0.521348</td>\n",
       "      <td>0.041407</td>\n",
       "      <td>...</td>\n",
       "      <td>0.096243</td>\n",
       "      <td>0.060438</td>\n",
       "      <td>0.070633</td>\n",
       "      <td>0.052464</td>\n",
       "      <td>0.065856</td>\n",
       "      <td>0.068910</td>\n",
       "      <td>0.041384</td>\n",
       "      <td>0.066819</td>\n",
       "      <td>-0.068596</td>\n",
       "      <td>-0.064684</td>\n",
       "    </tr>\n",
       "    <tr>\n",
       "      <th>maximum_nights</th>\n",
       "      <td>0.027791</td>\n",
       "      <td>0.036376</td>\n",
       "      <td>0.064575</td>\n",
       "      <td>-0.004547</td>\n",
       "      <td>0.037518</td>\n",
       "      <td>0.047146</td>\n",
       "      <td>0.005665</td>\n",
       "      <td>1.000000</td>\n",
       "      <td>-0.007589</td>\n",
       "      <td>0.568671</td>\n",
       "      <td>...</td>\n",
       "      <td>0.073844</td>\n",
       "      <td>-0.018942</td>\n",
       "      <td>-0.016702</td>\n",
       "      <td>-0.015892</td>\n",
       "      <td>-0.006669</td>\n",
       "      <td>-0.013752</td>\n",
       "      <td>0.000787</td>\n",
       "      <td>-0.015818</td>\n",
       "      <td>0.026366</td>\n",
       "      <td>0.020639</td>\n",
       "    </tr>\n",
       "    <tr>\n",
       "      <th>minimum_nights_avg_ntm</th>\n",
       "      <td>0.020493</td>\n",
       "      <td>-0.022625</td>\n",
       "      <td>0.064791</td>\n",
       "      <td>0.075050</td>\n",
       "      <td>0.094211</td>\n",
       "      <td>0.066274</td>\n",
       "      <td>0.521348</td>\n",
       "      <td>-0.007589</td>\n",
       "      <td>1.000000</td>\n",
       "      <td>0.034345</td>\n",
       "      <td>...</td>\n",
       "      <td>0.034037</td>\n",
       "      <td>0.042796</td>\n",
       "      <td>0.049388</td>\n",
       "      <td>0.032101</td>\n",
       "      <td>0.046343</td>\n",
       "      <td>0.045463</td>\n",
       "      <td>0.024677</td>\n",
       "      <td>0.044370</td>\n",
       "      <td>-0.090634</td>\n",
       "      <td>-0.100368</td>\n",
       "    </tr>\n",
       "    <tr>\n",
       "      <th>maximum_nights_avg_ntm</th>\n",
       "      <td>0.115333</td>\n",
       "      <td>0.146116</td>\n",
       "      <td>0.096048</td>\n",
       "      <td>0.007737</td>\n",
       "      <td>0.055538</td>\n",
       "      <td>0.068313</td>\n",
       "      <td>0.041407</td>\n",
       "      <td>0.568671</td>\n",
       "      <td>0.034345</td>\n",
       "      <td>1.000000</td>\n",
       "      <td>...</td>\n",
       "      <td>0.208085</td>\n",
       "      <td>0.021882</td>\n",
       "      <td>0.013684</td>\n",
       "      <td>0.012672</td>\n",
       "      <td>0.017373</td>\n",
       "      <td>0.014596</td>\n",
       "      <td>0.017527</td>\n",
       "      <td>0.011850</td>\n",
       "      <td>0.063445</td>\n",
       "      <td>0.150531</td>\n",
       "    </tr>\n",
       "    <tr>\n",
       "      <th>availability_30</th>\n",
       "      <td>-0.006484</td>\n",
       "      <td>-0.029281</td>\n",
       "      <td>-0.072931</td>\n",
       "      <td>-0.031810</td>\n",
       "      <td>-0.074096</td>\n",
       "      <td>-0.070120</td>\n",
       "      <td>-0.109259</td>\n",
       "      <td>-0.059838</td>\n",
       "      <td>-0.129894</td>\n",
       "      <td>-0.111666</td>\n",
       "      <td>...</td>\n",
       "      <td>-0.061865</td>\n",
       "      <td>-0.110864</td>\n",
       "      <td>-0.100715</td>\n",
       "      <td>-0.077804</td>\n",
       "      <td>-0.095211</td>\n",
       "      <td>-0.095977</td>\n",
       "      <td>-0.074703</td>\n",
       "      <td>-0.111581</td>\n",
       "      <td>0.033861</td>\n",
       "      <td>-0.040005</td>\n",
       "    </tr>\n",
       "    <tr>\n",
       "      <th>availability_60</th>\n",
       "      <td>0.001179</td>\n",
       "      <td>-0.032302</td>\n",
       "      <td>-0.104208</td>\n",
       "      <td>-0.052985</td>\n",
       "      <td>-0.104567</td>\n",
       "      <td>-0.090847</td>\n",
       "      <td>-0.115281</td>\n",
       "      <td>-0.054615</td>\n",
       "      <td>-0.135117</td>\n",
       "      <td>-0.114708</td>\n",
       "      <td>...</td>\n",
       "      <td>-0.062596</td>\n",
       "      <td>-0.119156</td>\n",
       "      <td>-0.106397</td>\n",
       "      <td>-0.084341</td>\n",
       "      <td>-0.098729</td>\n",
       "      <td>-0.100049</td>\n",
       "      <td>-0.081959</td>\n",
       "      <td>-0.118246</td>\n",
       "      <td>0.034742</td>\n",
       "      <td>-0.045090</td>\n",
       "    </tr>\n",
       "    <tr>\n",
       "      <th>availability_90</th>\n",
       "      <td>0.034365</td>\n",
       "      <td>-0.011942</td>\n",
       "      <td>-0.092961</td>\n",
       "      <td>-0.052763</td>\n",
       "      <td>-0.100272</td>\n",
       "      <td>-0.082731</td>\n",
       "      <td>-0.103065</td>\n",
       "      <td>-0.047963</td>\n",
       "      <td>-0.127826</td>\n",
       "      <td>-0.096562</td>\n",
       "      <td>...</td>\n",
       "      <td>-0.024157</td>\n",
       "      <td>-0.112240</td>\n",
       "      <td>-0.100926</td>\n",
       "      <td>-0.079282</td>\n",
       "      <td>-0.092490</td>\n",
       "      <td>-0.094090</td>\n",
       "      <td>-0.076986</td>\n",
       "      <td>-0.112940</td>\n",
       "      <td>0.048495</td>\n",
       "      <td>-0.015139</td>\n",
       "    </tr>\n",
       "    <tr>\n",
       "      <th>availability_365</th>\n",
       "      <td>0.081150</td>\n",
       "      <td>0.047053</td>\n",
       "      <td>-0.028244</td>\n",
       "      <td>-0.018290</td>\n",
       "      <td>-0.044429</td>\n",
       "      <td>-0.027135</td>\n",
       "      <td>-0.123345</td>\n",
       "      <td>0.083046</td>\n",
       "      <td>-0.136450</td>\n",
       "      <td>-0.010614</td>\n",
       "      <td>...</td>\n",
       "      <td>-0.014449</td>\n",
       "      <td>-0.074697</td>\n",
       "      <td>-0.083460</td>\n",
       "      <td>-0.064308</td>\n",
       "      <td>-0.076894</td>\n",
       "      <td>-0.081306</td>\n",
       "      <td>-0.059595</td>\n",
       "      <td>-0.089285</td>\n",
       "      <td>0.091452</td>\n",
       "      <td>0.034100</td>\n",
       "    </tr>\n",
       "    <tr>\n",
       "      <th>number_of_reviews_ltm</th>\n",
       "      <td>0.209305</td>\n",
       "      <td>0.218588</td>\n",
       "      <td>0.165657</td>\n",
       "      <td>0.043113</td>\n",
       "      <td>0.091462</td>\n",
       "      <td>0.100034</td>\n",
       "      <td>0.096243</td>\n",
       "      <td>0.073844</td>\n",
       "      <td>0.034037</td>\n",
       "      <td>0.208085</td>\n",
       "      <td>...</td>\n",
       "      <td>1.000000</td>\n",
       "      <td>0.072848</td>\n",
       "      <td>0.057706</td>\n",
       "      <td>0.053231</td>\n",
       "      <td>0.042654</td>\n",
       "      <td>0.040606</td>\n",
       "      <td>0.049763</td>\n",
       "      <td>0.054065</td>\n",
       "      <td>0.080496</td>\n",
       "      <td>0.390502</td>\n",
       "    </tr>\n",
       "    <tr>\n",
       "      <th>review_scores_rating</th>\n",
       "      <td>0.040664</td>\n",
       "      <td>0.025735</td>\n",
       "      <td>0.036862</td>\n",
       "      <td>0.034322</td>\n",
       "      <td>0.025333</td>\n",
       "      <td>0.029461</td>\n",
       "      <td>0.060438</td>\n",
       "      <td>-0.018942</td>\n",
       "      <td>0.042796</td>\n",
       "      <td>0.021882</td>\n",
       "      <td>...</td>\n",
       "      <td>0.072848</td>\n",
       "      <td>1.000000</td>\n",
       "      <td>0.732379</td>\n",
       "      <td>0.685752</td>\n",
       "      <td>0.679606</td>\n",
       "      <td>0.698783</td>\n",
       "      <td>0.620078</td>\n",
       "      <td>0.735915</td>\n",
       "      <td>-0.008152</td>\n",
       "      <td>0.053857</td>\n",
       "    </tr>\n",
       "    <tr>\n",
       "      <th>review_scores_accuracy</th>\n",
       "      <td>0.014709</td>\n",
       "      <td>-0.001966</td>\n",
       "      <td>0.021810</td>\n",
       "      <td>0.027308</td>\n",
       "      <td>0.015162</td>\n",
       "      <td>0.024885</td>\n",
       "      <td>0.070633</td>\n",
       "      <td>-0.016702</td>\n",
       "      <td>0.049388</td>\n",
       "      <td>0.013684</td>\n",
       "      <td>...</td>\n",
       "      <td>0.057706</td>\n",
       "      <td>0.732379</td>\n",
       "      <td>1.000000</td>\n",
       "      <td>0.802461</td>\n",
       "      <td>0.832447</td>\n",
       "      <td>0.830710</td>\n",
       "      <td>0.760356</td>\n",
       "      <td>0.857184</td>\n",
       "      <td>-0.020338</td>\n",
       "      <td>0.041585</td>\n",
       "    </tr>\n",
       "    <tr>\n",
       "      <th>review_scores_cleanliness</th>\n",
       "      <td>0.021658</td>\n",
       "      <td>0.009960</td>\n",
       "      <td>0.022618</td>\n",
       "      <td>0.013680</td>\n",
       "      <td>0.016540</td>\n",
       "      <td>0.027009</td>\n",
       "      <td>0.052464</td>\n",
       "      <td>-0.015892</td>\n",
       "      <td>0.032101</td>\n",
       "      <td>0.012672</td>\n",
       "      <td>...</td>\n",
       "      <td>0.053231</td>\n",
       "      <td>0.685752</td>\n",
       "      <td>0.802461</td>\n",
       "      <td>1.000000</td>\n",
       "      <td>0.746304</td>\n",
       "      <td>0.748588</td>\n",
       "      <td>0.718368</td>\n",
       "      <td>0.818310</td>\n",
       "      <td>-0.006173</td>\n",
       "      <td>0.047253</td>\n",
       "    </tr>\n",
       "    <tr>\n",
       "      <th>review_scores_checkin</th>\n",
       "      <td>0.016969</td>\n",
       "      <td>-0.001109</td>\n",
       "      <td>0.009632</td>\n",
       "      <td>0.010896</td>\n",
       "      <td>0.008287</td>\n",
       "      <td>0.013621</td>\n",
       "      <td>0.065856</td>\n",
       "      <td>-0.006669</td>\n",
       "      <td>0.046343</td>\n",
       "      <td>0.017373</td>\n",
       "      <td>...</td>\n",
       "      <td>0.042654</td>\n",
       "      <td>0.679606</td>\n",
       "      <td>0.832447</td>\n",
       "      <td>0.746304</td>\n",
       "      <td>1.000000</td>\n",
       "      <td>0.872173</td>\n",
       "      <td>0.778459</td>\n",
       "      <td>0.778474</td>\n",
       "      <td>-0.002110</td>\n",
       "      <td>0.024286</td>\n",
       "    </tr>\n",
       "    <tr>\n",
       "      <th>review_scores_communication</th>\n",
       "      <td>0.019245</td>\n",
       "      <td>-0.005811</td>\n",
       "      <td>0.013621</td>\n",
       "      <td>0.021287</td>\n",
       "      <td>0.012218</td>\n",
       "      <td>0.022074</td>\n",
       "      <td>0.068910</td>\n",
       "      <td>-0.013752</td>\n",
       "      <td>0.045463</td>\n",
       "      <td>0.014596</td>\n",
       "      <td>...</td>\n",
       "      <td>0.040606</td>\n",
       "      <td>0.698783</td>\n",
       "      <td>0.830710</td>\n",
       "      <td>0.748588</td>\n",
       "      <td>0.872173</td>\n",
       "      <td>1.000000</td>\n",
       "      <td>0.747149</td>\n",
       "      <td>0.796456</td>\n",
       "      <td>-0.019665</td>\n",
       "      <td>0.021712</td>\n",
       "    </tr>\n",
       "    <tr>\n",
       "      <th>review_scores_location</th>\n",
       "      <td>0.018707</td>\n",
       "      <td>0.009030</td>\n",
       "      <td>0.015165</td>\n",
       "      <td>0.034376</td>\n",
       "      <td>0.014019</td>\n",
       "      <td>0.010451</td>\n",
       "      <td>0.041384</td>\n",
       "      <td>0.000787</td>\n",
       "      <td>0.024677</td>\n",
       "      <td>0.017527</td>\n",
       "      <td>...</td>\n",
       "      <td>0.049763</td>\n",
       "      <td>0.620078</td>\n",
       "      <td>0.760356</td>\n",
       "      <td>0.718368</td>\n",
       "      <td>0.778459</td>\n",
       "      <td>0.747149</td>\n",
       "      <td>1.000000</td>\n",
       "      <td>0.768608</td>\n",
       "      <td>0.016758</td>\n",
       "      <td>0.026069</td>\n",
       "    </tr>\n",
       "    <tr>\n",
       "      <th>review_scores_value</th>\n",
       "      <td>0.017317</td>\n",
       "      <td>-0.004724</td>\n",
       "      <td>0.025212</td>\n",
       "      <td>0.039051</td>\n",
       "      <td>0.023225</td>\n",
       "      <td>0.027772</td>\n",
       "      <td>0.066819</td>\n",
       "      <td>-0.015818</td>\n",
       "      <td>0.044370</td>\n",
       "      <td>0.011850</td>\n",
       "      <td>...</td>\n",
       "      <td>0.054065</td>\n",
       "      <td>0.735915</td>\n",
       "      <td>0.857184</td>\n",
       "      <td>0.818310</td>\n",
       "      <td>0.778474</td>\n",
       "      <td>0.796456</td>\n",
       "      <td>0.768608</td>\n",
       "      <td>1.000000</td>\n",
       "      <td>-0.032051</td>\n",
       "      <td>0.047575</td>\n",
       "    </tr>\n",
       "    <tr>\n",
       "      <th>calculated_host_listings_count</th>\n",
       "      <td>0.156433</td>\n",
       "      <td>0.157896</td>\n",
       "      <td>0.000990</td>\n",
       "      <td>-0.030056</td>\n",
       "      <td>-0.067516</td>\n",
       "      <td>-0.047505</td>\n",
       "      <td>-0.068596</td>\n",
       "      <td>0.026366</td>\n",
       "      <td>-0.090634</td>\n",
       "      <td>0.063445</td>\n",
       "      <td>...</td>\n",
       "      <td>0.080496</td>\n",
       "      <td>-0.008152</td>\n",
       "      <td>-0.020338</td>\n",
       "      <td>-0.006173</td>\n",
       "      <td>-0.002110</td>\n",
       "      <td>-0.019665</td>\n",
       "      <td>0.016758</td>\n",
       "      <td>-0.032051</td>\n",
       "      <td>1.000000</td>\n",
       "      <td>0.124898</td>\n",
       "    </tr>\n",
       "    <tr>\n",
       "      <th>reviews_per_month</th>\n",
       "      <td>0.193375</td>\n",
       "      <td>0.227639</td>\n",
       "      <td>0.144879</td>\n",
       "      <td>0.012663</td>\n",
       "      <td>0.055847</td>\n",
       "      <td>0.072197</td>\n",
       "      <td>-0.064684</td>\n",
       "      <td>0.020639</td>\n",
       "      <td>-0.100368</td>\n",
       "      <td>0.150531</td>\n",
       "      <td>...</td>\n",
       "      <td>0.390502</td>\n",
       "      <td>0.053857</td>\n",
       "      <td>0.041585</td>\n",
       "      <td>0.047253</td>\n",
       "      <td>0.024286</td>\n",
       "      <td>0.021712</td>\n",
       "      <td>0.026069</td>\n",
       "      <td>0.047575</td>\n",
       "      <td>0.124898</td>\n",
       "      <td>1.000000</td>\n",
       "    </tr>\n",
       "  </tbody>\n",
       "</table>\n",
       "<p>24 rows × 24 columns</p>\n",
       "</div>"
      ],
      "text/plain": [
       "                                host_response_rate  host_acceptance_rate  \\\n",
       "host_response_rate                        1.000000              0.349948   \n",
       "host_acceptance_rate                      0.349948              1.000000   \n",
       "accommodates                              0.083338              0.095955   \n",
       "bathrooms                                 0.028632              0.005789   \n",
       "bedrooms                                  0.035682              0.029477   \n",
       "beds                                      0.058505              0.049562   \n",
       "minimum_nights                            0.018164              0.002222   \n",
       "maximum_nights                            0.027791              0.036376   \n",
       "minimum_nights_avg_ntm                    0.020493             -0.022625   \n",
       "maximum_nights_avg_ntm                    0.115333              0.146116   \n",
       "availability_30                          -0.006484             -0.029281   \n",
       "availability_60                           0.001179             -0.032302   \n",
       "availability_90                           0.034365             -0.011942   \n",
       "availability_365                          0.081150              0.047053   \n",
       "number_of_reviews_ltm                     0.209305              0.218588   \n",
       "review_scores_rating                      0.040664              0.025735   \n",
       "review_scores_accuracy                    0.014709             -0.001966   \n",
       "review_scores_cleanliness                 0.021658              0.009960   \n",
       "review_scores_checkin                     0.016969             -0.001109   \n",
       "review_scores_communication               0.019245             -0.005811   \n",
       "review_scores_location                    0.018707              0.009030   \n",
       "review_scores_value                       0.017317             -0.004724   \n",
       "calculated_host_listings_count            0.156433              0.157896   \n",
       "reviews_per_month                         0.193375              0.227639   \n",
       "\n",
       "                                accommodates  bathrooms  bedrooms      beds  \\\n",
       "host_response_rate                  0.083338   0.028632  0.035682  0.058505   \n",
       "host_acceptance_rate                0.095955   0.005789  0.029477  0.049562   \n",
       "accommodates                        1.000000   0.422794  0.697156  0.590362   \n",
       "bathrooms                           0.422794   1.000000  0.525756  0.279646   \n",
       "bedrooms                            0.697156   0.525756  1.000000  0.528904   \n",
       "beds                                0.590362   0.279646  0.528904  1.000000   \n",
       "minimum_nights                      0.078032   0.054783  0.089642  0.075548   \n",
       "maximum_nights                      0.064575  -0.004547  0.037518  0.047146   \n",
       "minimum_nights_avg_ntm              0.064791   0.075050  0.094211  0.066274   \n",
       "maximum_nights_avg_ntm              0.096048   0.007737  0.055538  0.068313   \n",
       "availability_30                    -0.072931  -0.031810 -0.074096 -0.070120   \n",
       "availability_60                    -0.104208  -0.052985 -0.104567 -0.090847   \n",
       "availability_90                    -0.092961  -0.052763 -0.100272 -0.082731   \n",
       "availability_365                   -0.028244  -0.018290 -0.044429 -0.027135   \n",
       "number_of_reviews_ltm               0.165657   0.043113  0.091462  0.100034   \n",
       "review_scores_rating                0.036862   0.034322  0.025333  0.029461   \n",
       "review_scores_accuracy              0.021810   0.027308  0.015162  0.024885   \n",
       "review_scores_cleanliness           0.022618   0.013680  0.016540  0.027009   \n",
       "review_scores_checkin               0.009632   0.010896  0.008287  0.013621   \n",
       "review_scores_communication         0.013621   0.021287  0.012218  0.022074   \n",
       "review_scores_location              0.015165   0.034376  0.014019  0.010451   \n",
       "review_scores_value                 0.025212   0.039051  0.023225  0.027772   \n",
       "calculated_host_listings_count      0.000990  -0.030056 -0.067516 -0.047505   \n",
       "reviews_per_month                   0.144879   0.012663  0.055847  0.072197   \n",
       "\n",
       "                                minimum_nights  maximum_nights  \\\n",
       "host_response_rate                    0.018164        0.027791   \n",
       "host_acceptance_rate                  0.002222        0.036376   \n",
       "accommodates                          0.078032        0.064575   \n",
       "bathrooms                             0.054783       -0.004547   \n",
       "bedrooms                              0.089642        0.037518   \n",
       "beds                                  0.075548        0.047146   \n",
       "minimum_nights                        1.000000        0.005665   \n",
       "maximum_nights                        0.005665        1.000000   \n",
       "minimum_nights_avg_ntm                0.521348       -0.007589   \n",
       "maximum_nights_avg_ntm                0.041407        0.568671   \n",
       "availability_30                      -0.109259       -0.059838   \n",
       "availability_60                      -0.115281       -0.054615   \n",
       "availability_90                      -0.103065       -0.047963   \n",
       "availability_365                     -0.123345        0.083046   \n",
       "number_of_reviews_ltm                 0.096243        0.073844   \n",
       "review_scores_rating                  0.060438       -0.018942   \n",
       "review_scores_accuracy                0.070633       -0.016702   \n",
       "review_scores_cleanliness             0.052464       -0.015892   \n",
       "review_scores_checkin                 0.065856       -0.006669   \n",
       "review_scores_communication           0.068910       -0.013752   \n",
       "review_scores_location                0.041384        0.000787   \n",
       "review_scores_value                   0.066819       -0.015818   \n",
       "calculated_host_listings_count       -0.068596        0.026366   \n",
       "reviews_per_month                    -0.064684        0.020639   \n",
       "\n",
       "                                minimum_nights_avg_ntm  \\\n",
       "host_response_rate                            0.020493   \n",
       "host_acceptance_rate                         -0.022625   \n",
       "accommodates                                  0.064791   \n",
       "bathrooms                                     0.075050   \n",
       "bedrooms                                      0.094211   \n",
       "beds                                          0.066274   \n",
       "minimum_nights                                0.521348   \n",
       "maximum_nights                               -0.007589   \n",
       "minimum_nights_avg_ntm                        1.000000   \n",
       "maximum_nights_avg_ntm                        0.034345   \n",
       "availability_30                              -0.129894   \n",
       "availability_60                              -0.135117   \n",
       "availability_90                              -0.127826   \n",
       "availability_365                             -0.136450   \n",
       "number_of_reviews_ltm                         0.034037   \n",
       "review_scores_rating                          0.042796   \n",
       "review_scores_accuracy                        0.049388   \n",
       "review_scores_cleanliness                     0.032101   \n",
       "review_scores_checkin                         0.046343   \n",
       "review_scores_communication                   0.045463   \n",
       "review_scores_location                        0.024677   \n",
       "review_scores_value                           0.044370   \n",
       "calculated_host_listings_count               -0.090634   \n",
       "reviews_per_month                            -0.100368   \n",
       "\n",
       "                                maximum_nights_avg_ntm  ...  \\\n",
       "host_response_rate                            0.115333  ...   \n",
       "host_acceptance_rate                          0.146116  ...   \n",
       "accommodates                                  0.096048  ...   \n",
       "bathrooms                                     0.007737  ...   \n",
       "bedrooms                                      0.055538  ...   \n",
       "beds                                          0.068313  ...   \n",
       "minimum_nights                                0.041407  ...   \n",
       "maximum_nights                                0.568671  ...   \n",
       "minimum_nights_avg_ntm                        0.034345  ...   \n",
       "maximum_nights_avg_ntm                        1.000000  ...   \n",
       "availability_30                              -0.111666  ...   \n",
       "availability_60                              -0.114708  ...   \n",
       "availability_90                              -0.096562  ...   \n",
       "availability_365                             -0.010614  ...   \n",
       "number_of_reviews_ltm                         0.208085  ...   \n",
       "review_scores_rating                          0.021882  ...   \n",
       "review_scores_accuracy                        0.013684  ...   \n",
       "review_scores_cleanliness                     0.012672  ...   \n",
       "review_scores_checkin                         0.017373  ...   \n",
       "review_scores_communication                   0.014596  ...   \n",
       "review_scores_location                        0.017527  ...   \n",
       "review_scores_value                           0.011850  ...   \n",
       "calculated_host_listings_count                0.063445  ...   \n",
       "reviews_per_month                             0.150531  ...   \n",
       "\n",
       "                                number_of_reviews_ltm  review_scores_rating  \\\n",
       "host_response_rate                           0.209305              0.040664   \n",
       "host_acceptance_rate                         0.218588              0.025735   \n",
       "accommodates                                 0.165657              0.036862   \n",
       "bathrooms                                    0.043113              0.034322   \n",
       "bedrooms                                     0.091462              0.025333   \n",
       "beds                                         0.100034              0.029461   \n",
       "minimum_nights                               0.096243              0.060438   \n",
       "maximum_nights                               0.073844             -0.018942   \n",
       "minimum_nights_avg_ntm                       0.034037              0.042796   \n",
       "maximum_nights_avg_ntm                       0.208085              0.021882   \n",
       "availability_30                             -0.061865             -0.110864   \n",
       "availability_60                             -0.062596             -0.119156   \n",
       "availability_90                             -0.024157             -0.112240   \n",
       "availability_365                            -0.014449             -0.074697   \n",
       "number_of_reviews_ltm                        1.000000              0.072848   \n",
       "review_scores_rating                         0.072848              1.000000   \n",
       "review_scores_accuracy                       0.057706              0.732379   \n",
       "review_scores_cleanliness                    0.053231              0.685752   \n",
       "review_scores_checkin                        0.042654              0.679606   \n",
       "review_scores_communication                  0.040606              0.698783   \n",
       "review_scores_location                       0.049763              0.620078   \n",
       "review_scores_value                          0.054065              0.735915   \n",
       "calculated_host_listings_count               0.080496             -0.008152   \n",
       "reviews_per_month                            0.390502              0.053857   \n",
       "\n",
       "                                review_scores_accuracy  \\\n",
       "host_response_rate                            0.014709   \n",
       "host_acceptance_rate                         -0.001966   \n",
       "accommodates                                  0.021810   \n",
       "bathrooms                                     0.027308   \n",
       "bedrooms                                      0.015162   \n",
       "beds                                          0.024885   \n",
       "minimum_nights                                0.070633   \n",
       "maximum_nights                               -0.016702   \n",
       "minimum_nights_avg_ntm                        0.049388   \n",
       "maximum_nights_avg_ntm                        0.013684   \n",
       "availability_30                              -0.100715   \n",
       "availability_60                              -0.106397   \n",
       "availability_90                              -0.100926   \n",
       "availability_365                             -0.083460   \n",
       "number_of_reviews_ltm                         0.057706   \n",
       "review_scores_rating                          0.732379   \n",
       "review_scores_accuracy                        1.000000   \n",
       "review_scores_cleanliness                     0.802461   \n",
       "review_scores_checkin                         0.832447   \n",
       "review_scores_communication                   0.830710   \n",
       "review_scores_location                        0.760356   \n",
       "review_scores_value                           0.857184   \n",
       "calculated_host_listings_count               -0.020338   \n",
       "reviews_per_month                             0.041585   \n",
       "\n",
       "                                review_scores_cleanliness  \\\n",
       "host_response_rate                               0.021658   \n",
       "host_acceptance_rate                             0.009960   \n",
       "accommodates                                     0.022618   \n",
       "bathrooms                                        0.013680   \n",
       "bedrooms                                         0.016540   \n",
       "beds                                             0.027009   \n",
       "minimum_nights                                   0.052464   \n",
       "maximum_nights                                  -0.015892   \n",
       "minimum_nights_avg_ntm                           0.032101   \n",
       "maximum_nights_avg_ntm                           0.012672   \n",
       "availability_30                                 -0.077804   \n",
       "availability_60                                 -0.084341   \n",
       "availability_90                                 -0.079282   \n",
       "availability_365                                -0.064308   \n",
       "number_of_reviews_ltm                            0.053231   \n",
       "review_scores_rating                             0.685752   \n",
       "review_scores_accuracy                           0.802461   \n",
       "review_scores_cleanliness                        1.000000   \n",
       "review_scores_checkin                            0.746304   \n",
       "review_scores_communication                      0.748588   \n",
       "review_scores_location                           0.718368   \n",
       "review_scores_value                              0.818310   \n",
       "calculated_host_listings_count                  -0.006173   \n",
       "reviews_per_month                                0.047253   \n",
       "\n",
       "                                review_scores_checkin  \\\n",
       "host_response_rate                           0.016969   \n",
       "host_acceptance_rate                        -0.001109   \n",
       "accommodates                                 0.009632   \n",
       "bathrooms                                    0.010896   \n",
       "bedrooms                                     0.008287   \n",
       "beds                                         0.013621   \n",
       "minimum_nights                               0.065856   \n",
       "maximum_nights                              -0.006669   \n",
       "minimum_nights_avg_ntm                       0.046343   \n",
       "maximum_nights_avg_ntm                       0.017373   \n",
       "availability_30                             -0.095211   \n",
       "availability_60                             -0.098729   \n",
       "availability_90                             -0.092490   \n",
       "availability_365                            -0.076894   \n",
       "number_of_reviews_ltm                        0.042654   \n",
       "review_scores_rating                         0.679606   \n",
       "review_scores_accuracy                       0.832447   \n",
       "review_scores_cleanliness                    0.746304   \n",
       "review_scores_checkin                        1.000000   \n",
       "review_scores_communication                  0.872173   \n",
       "review_scores_location                       0.778459   \n",
       "review_scores_value                          0.778474   \n",
       "calculated_host_listings_count              -0.002110   \n",
       "reviews_per_month                            0.024286   \n",
       "\n",
       "                                review_scores_communication  \\\n",
       "host_response_rate                                 0.019245   \n",
       "host_acceptance_rate                              -0.005811   \n",
       "accommodates                                       0.013621   \n",
       "bathrooms                                          0.021287   \n",
       "bedrooms                                           0.012218   \n",
       "beds                                               0.022074   \n",
       "minimum_nights                                     0.068910   \n",
       "maximum_nights                                    -0.013752   \n",
       "minimum_nights_avg_ntm                             0.045463   \n",
       "maximum_nights_avg_ntm                             0.014596   \n",
       "availability_30                                   -0.095977   \n",
       "availability_60                                   -0.100049   \n",
       "availability_90                                   -0.094090   \n",
       "availability_365                                  -0.081306   \n",
       "number_of_reviews_ltm                              0.040606   \n",
       "review_scores_rating                               0.698783   \n",
       "review_scores_accuracy                             0.830710   \n",
       "review_scores_cleanliness                          0.748588   \n",
       "review_scores_checkin                              0.872173   \n",
       "review_scores_communication                        1.000000   \n",
       "review_scores_location                             0.747149   \n",
       "review_scores_value                                0.796456   \n",
       "calculated_host_listings_count                    -0.019665   \n",
       "reviews_per_month                                  0.021712   \n",
       "\n",
       "                                review_scores_location  review_scores_value  \\\n",
       "host_response_rate                            0.018707             0.017317   \n",
       "host_acceptance_rate                          0.009030            -0.004724   \n",
       "accommodates                                  0.015165             0.025212   \n",
       "bathrooms                                     0.034376             0.039051   \n",
       "bedrooms                                      0.014019             0.023225   \n",
       "beds                                          0.010451             0.027772   \n",
       "minimum_nights                                0.041384             0.066819   \n",
       "maximum_nights                                0.000787            -0.015818   \n",
       "minimum_nights_avg_ntm                        0.024677             0.044370   \n",
       "maximum_nights_avg_ntm                        0.017527             0.011850   \n",
       "availability_30                              -0.074703            -0.111581   \n",
       "availability_60                              -0.081959            -0.118246   \n",
       "availability_90                              -0.076986            -0.112940   \n",
       "availability_365                             -0.059595            -0.089285   \n",
       "number_of_reviews_ltm                         0.049763             0.054065   \n",
       "review_scores_rating                          0.620078             0.735915   \n",
       "review_scores_accuracy                        0.760356             0.857184   \n",
       "review_scores_cleanliness                     0.718368             0.818310   \n",
       "review_scores_checkin                         0.778459             0.778474   \n",
       "review_scores_communication                   0.747149             0.796456   \n",
       "review_scores_location                        1.000000             0.768608   \n",
       "review_scores_value                           0.768608             1.000000   \n",
       "calculated_host_listings_count                0.016758            -0.032051   \n",
       "reviews_per_month                             0.026069             0.047575   \n",
       "\n",
       "                                calculated_host_listings_count  \\\n",
       "host_response_rate                                    0.156433   \n",
       "host_acceptance_rate                                  0.157896   \n",
       "accommodates                                          0.000990   \n",
       "bathrooms                                            -0.030056   \n",
       "bedrooms                                             -0.067516   \n",
       "beds                                                 -0.047505   \n",
       "minimum_nights                                       -0.068596   \n",
       "maximum_nights                                        0.026366   \n",
       "minimum_nights_avg_ntm                               -0.090634   \n",
       "maximum_nights_avg_ntm                                0.063445   \n",
       "availability_30                                       0.033861   \n",
       "availability_60                                       0.034742   \n",
       "availability_90                                       0.048495   \n",
       "availability_365                                      0.091452   \n",
       "number_of_reviews_ltm                                 0.080496   \n",
       "review_scores_rating                                 -0.008152   \n",
       "review_scores_accuracy                               -0.020338   \n",
       "review_scores_cleanliness                            -0.006173   \n",
       "review_scores_checkin                                -0.002110   \n",
       "review_scores_communication                          -0.019665   \n",
       "review_scores_location                                0.016758   \n",
       "review_scores_value                                  -0.032051   \n",
       "calculated_host_listings_count                        1.000000   \n",
       "reviews_per_month                                     0.124898   \n",
       "\n",
       "                                reviews_per_month  \n",
       "host_response_rate                       0.193375  \n",
       "host_acceptance_rate                     0.227639  \n",
       "accommodates                             0.144879  \n",
       "bathrooms                                0.012663  \n",
       "bedrooms                                 0.055847  \n",
       "beds                                     0.072197  \n",
       "minimum_nights                          -0.064684  \n",
       "maximum_nights                           0.020639  \n",
       "minimum_nights_avg_ntm                  -0.100368  \n",
       "maximum_nights_avg_ntm                   0.150531  \n",
       "availability_30                         -0.040005  \n",
       "availability_60                         -0.045090  \n",
       "availability_90                         -0.015139  \n",
       "availability_365                         0.034100  \n",
       "number_of_reviews_ltm                    0.390502  \n",
       "review_scores_rating                     0.053857  \n",
       "review_scores_accuracy                   0.041585  \n",
       "review_scores_cleanliness                0.047253  \n",
       "review_scores_checkin                    0.024286  \n",
       "review_scores_communication              0.021712  \n",
       "review_scores_location                   0.026069  \n",
       "review_scores_value                      0.047575  \n",
       "calculated_host_listings_count           0.124898  \n",
       "reviews_per_month                        1.000000  \n",
       "\n",
       "[24 rows x 24 columns]"
      ]
     },
     "execution_count": 117,
     "metadata": {},
     "output_type": "execute_result"
    }
   ],
   "source": [
    "#Encontramos todas las correlaciones entre las variables \n",
    "correlacion=dfn.corr()\n",
    "correlacion"
   ]
  },
  {
   "cell_type": "code",
   "execution_count": 118,
   "metadata": {},
   "outputs": [
    {
     "data": {
      "image/png": "[encoded data removed]",
      "text/plain": [
       "<Figure size 1080x576 with 2 Axes>"
      ]
     },
     "metadata": {
      "needs_background": "light"
     },
     "output_type": "display_data"
    }
   ],
   "source": [
    "#A partir de este diagrmaa de calor es posible identificar correlaciones entre variables que serán exploradas a mayor profundidad en \n",
    "#el siguiente software que será utilizado. \n",
    "factores= abs(correlacion)\n",
    "plt.figure(figsize=(15,8))\n",
    "heat_map=sns.heatmap(factores,cmap=\"coolwarm\",annot=True)"
   ]
  }
 ],
 "metadata": {
  "kernelspec": {
   "display_name": "Python 3.10.6 64-bit",
   "language": "python",
   "name": "python3"
  },
  "language_info": {
   "codemirror_mode": {
    "name": "ipython",
    "version": 3
   },
   "file_extension": ".py",
   "mimetype": "text/x-python",
   "name": "python",
   "nbconvert_exporter": "python",
   "pygments_lexer": "ipython3",
   "version": "3.10.6"
  },
  "orig_nbformat": 4,
  "vscode": {
   "interpreter": {
    "hash": "aee8b7b246df8f9039afb4144a1f6fd8d2ca17a180786b69acc140d282b71a49"
   }
  }
 },
 "nbformat": 4,
 "nbformat_minor": 2
}
